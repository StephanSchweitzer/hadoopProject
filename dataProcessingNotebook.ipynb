{
 "cells": [
  {
   "cell_type": "code",
   "execution_count": 2,
   "metadata": {
    "collapsed": true,
    "ExecuteTime": {
     "end_time": "2023-07-16T21:06:13.525647700Z",
     "start_time": "2023-07-16T21:05:55.008935500Z"
    }
   },
   "outputs": [
    {
     "name": "stdout",
     "output_type": "stream",
     "text": [
      "+---------+\n",
      "|namespace|\n",
      "+---------+\n",
      "|  default|\n",
      "+---------+\n",
      "\n"
     ]
    }
   ],
   "source": [
    "import pyspark\n",
    "from pyspark.sql import SparkSession\n",
    "from pyspark.sql.types import StructType\n",
    "import csvStructures as csvStruc\n",
    "import matplotlib\n",
    "import matplotlib.pyplot as plt\n",
    "import sillyFunctions as ezFunc\n",
    "\n",
    "electiondata = csvStruc.spark.read.csv(\n",
    "        \"hdfs://localhost:9000/user/steez/indianElections/Loksabha_1962-2019.csv\",\n",
    "        schema=csvStruc.electionsSchema)"
   ]
  },
  {
   "cell_type": "code",
   "execution_count": 3,
   "outputs": [
    {
     "name": "stdout",
     "output_type": "stream",
     "text": [
      "root\n",
      " |-- city: string (nullable = true)\n",
      " |-- no: integer (nullable = true)\n",
      " |-- type: string (nullable = true)\n",
      " |-- state: string (nullable = true)\n",
      " |-- candidate: string (nullable = true)\n",
      " |-- party: string (nullable = true)\n",
      " |-- electors: string (nullable = true)\n",
      " |-- votes: string (nullable = true)\n",
      " |-- turnout: string (nullable = true)\n",
      " |-- margin: string (nullable = true)\n",
      " |-- margin%: string (nullable = true)\n",
      " |-- year: integer (nullable = true)\n",
      "\n"
     ]
    }
   ],
   "source": [
    "electiondata.printSchema()"
   ],
   "metadata": {
    "collapsed": false,
    "ExecuteTime": {
     "end_time": "2023-07-16T21:06:13.541125600Z",
     "start_time": "2023-07-16T21:06:13.528648300Z"
    }
   }
  },
  {
   "cell_type": "code",
   "execution_count": 4,
   "outputs": [],
   "source": [
    "pollutiondata = csvStruc.spark.read.csv(\n",
    "        \"hdfs://localhost:9000/user/steez/pollution/data.csv\",\n",
    "        schema=csvStruc.pollutionSchema)"
   ],
   "metadata": {
    "collapsed": false,
    "ExecuteTime": {
     "end_time": "2023-07-16T21:06:13.592726Z",
     "start_time": "2023-07-16T21:06:13.542124500Z"
    }
   }
  },
  {
   "cell_type": "code",
   "execution_count": 5,
   "outputs": [
    {
     "name": "stdout",
     "output_type": "stream",
     "text": [
      "+--------+------------------+--------------+---------+------+--------------------+----+----+----+----+---------------------------+-----+----------+\n",
      "|stn_code|     sampling_date|         state| location|agency|                type| so2| no2|rspm| spm|location_monitoring_station|pm2_5|      date|\n",
      "+--------+------------------+--------------+---------+------+--------------------+----+----+----+----+---------------------------+-----+----------+\n",
      "|stn_code|     sampling_date|         state| location|agency|                type|null|null|null|null|       location_monitori...| null|      date|\n",
      "|     150|February - M021990|Andhra Pradesh|Hyderabad|    NA|Residential, Rura...| 4.8|17.4|null|null|                         NA| null|1990-02-01|\n",
      "|     151|February - M021990|Andhra Pradesh|Hyderabad|    NA|     Industrial Area| 3.1| 7.0|null|null|                         NA| null|1990-02-01|\n",
      "|     152|February - M021990|Andhra Pradesh|Hyderabad|    NA|Residential, Rura...| 6.2|28.5|null|null|                         NA| null|1990-02-01|\n",
      "|     150|   March - M031990|Andhra Pradesh|Hyderabad|    NA|Residential, Rura...| 6.3|14.7|null|null|                         NA| null|1990-03-01|\n",
      "+--------+------------------+--------------+---------+------+--------------------+----+----+----+----+---------------------------+-----+----------+\n",
      "only showing top 5 rows\n",
      "\n"
     ]
    }
   ],
   "source": [
    "pollutiondata.show(5)"
   ],
   "metadata": {
    "collapsed": false,
    "ExecuteTime": {
     "end_time": "2023-07-16T21:06:14.605537500Z",
     "start_time": "2023-07-16T21:06:13.575270800Z"
    }
   }
  },
  {
   "cell_type": "code",
   "execution_count": 6,
   "outputs": [],
   "source": [
    "economic_info_data = csvStruc.spark.read.csv(\n",
    "        \"hdfs://localhost:9000/user/steez/socioEconomicData/india.csv\",\n",
    "        schema=csvStruc.economicInfoSchema)"
   ],
   "metadata": {
    "collapsed": false,
    "ExecuteTime": {
     "end_time": "2023-07-16T21:06:14.659546700Z",
     "start_time": "2023-07-16T21:06:14.608538100Z"
    }
   }
  },
  {
   "cell_type": "code",
   "execution_count": 7,
   "outputs": [
    {
     "name": "stdout",
     "output_type": "stream",
     "text": [
      "+--------------------+----+----+----+-----+-----+-----+-----+-----+-----+-----+-----+-----+-----+-----+-----+-----+-----+-----+-----+-----+-----+-----+-----+-----+-----+------+------+------+------+------+------+------+------+-----------------+\n",
      "|               state|1990|1991|1992| 1993| 1994| 1995| 1996| 1997| 1998| 1999| 2000| 2001| 2002| 2003| 2004| 2005| 2006| 2007| 2008| 2009| 2010| 2011| 2012| 2013| 2014|  2015|  2016|  2017|  2018|  2019|  2020|  2021|  2022|         category|\n",
      "+--------------------+----+----+----+-----+-----+-----+-----+-----+-----+-----+-----+-----+-----+-----+-----+-----+-----+-----+-----+-----+-----+-----+-----+-----+-----+------+------+------+------+------+------+------+------+-----------------+\n",
      "|               state|1990|1991|1992| 1993| 1994| 1995| 1996| 1997| 1998| 1999| 2000| 2001| 2002| 2003| 2004| 2005| 2006| 2007| 2008| 2009| 2010| 2011| 2012| 2013| 2014|  2015|  2016|  2017|  2018|  2019|  2020|  2021|  2022|         CATEGORY|\n",
      "|Andaman & Nicobar...|2580|2302|2884|15192|16191|15354|15896|16350|14502|15293|24005|23658|23869|25487|27229|40921|41645|47522|50629|56304|61411|64712|89100|92644|98735|106711|114660|129532|145562|154233|161564|  null|  null|Per Capita Income|\n",
      "|      Andhra Pradesh|2060|2134|2039| 7416| 7711| 8071| 8514| 8191| 9144| 9445|15427|16574|17213|17340|18819|25959|27179|29797|33217|33733|35677|37708|69000|68865|72254| 79174| 88609| 94115|103177|108853|115344|114324|126587|Per Capita Income|\n",
      "|   Arunachal Pradesh|2709|3013|3015| 8733| 8342| 9352| 8590| 8634| 8712| 8890|13990|14726|16793|15832|17340|26721|26870|27675|30287|32028|33893|34548|73540|73960|79004| 91034| 88768| 91319| 94008| 99580|113110|108706|  null|Per Capita Income|\n",
      "|               Assam|1544|1575|1557| 5715| 5737| 5760| 5793| 5796| 5664| 5785|12282|12447|12529|13072|13675|16782|17050|17579|18089|18922|20406|21146|41142|41609|43002| 44809| 50642| 53575| 57835| 59943| 61519| 57227|  null|Per Capita Income|\n",
      "+--------------------+----+----+----+-----+-----+-----+-----+-----+-----+-----+-----+-----+-----+-----+-----+-----+-----+-----+-----+-----+-----+-----+-----+-----+-----+------+------+------+------+------+------+------+------+-----------------+\n",
      "only showing top 5 rows\n",
      "\n"
     ]
    }
   ],
   "source": [
    "economic_info_data.show(5)"
   ],
   "metadata": {
    "collapsed": false,
    "ExecuteTime": {
     "end_time": "2023-07-16T21:06:14.937562700Z",
     "start_time": "2023-07-16T21:06:14.638029900Z"
    }
   }
  },
  {
   "cell_type": "code",
   "execution_count": 8,
   "outputs": [],
   "source": [
    "population_data_2001 = csvStruc.spark.read.csv(\n",
    "        \"hdfs://localhost:9000/user/steez/populationCensusByYear/data_2001.csv\",\n",
    "        schema=csvStruc.populationSchema)"
   ],
   "metadata": {
    "collapsed": false,
    "ExecuteTime": {
     "end_time": "2023-07-16T21:06:15.004190800Z",
     "start_time": "2023-07-16T21:06:14.939561300Z"
    }
   }
  },
  {
   "cell_type": "code",
   "execution_count": 9,
   "outputs": [
    {
     "name": "stdout",
     "output_type": "stream",
     "text": [
      "+-------------+----+----------------+----------------+---------------------+-----------------------+\n",
      "|         city|year|total_households|total_population|total_male_population|total_female_population|\n",
      "+-------------+----+----------------+----------------+---------------------+-----------------------+\n",
      "|         NAME|null|            null|            null|                 null|                   null|\n",
      "|  WEST BENGAL|2001|        15872083|        80176197|             41465985|               38710212|\n",
      "|  UTTARANCHAL|2001|         1603242|         8489349|              4325924|                4163425|\n",
      "|UTTAR PRADESH|2001|        25757640|       166197921|             87565369|               78632552|\n",
      "|      TRIPURA|2001|          664334|         3199203|              1642225|                1556978|\n",
      "+-------------+----+----------------+----------------+---------------------+-----------------------+\n",
      "only showing top 5 rows\n",
      "\n"
     ]
    }
   ],
   "source": [
    "population_data_2001.show(5)"
   ],
   "metadata": {
    "collapsed": false,
    "ExecuteTime": {
     "end_time": "2023-07-16T21:06:15.124981Z",
     "start_time": "2023-07-16T21:06:14.973190900Z"
    }
   }
  },
  {
   "cell_type": "markdown",
   "source": [],
   "metadata": {
    "collapsed": false
   }
  },
  {
   "cell_type": "code",
   "execution_count": 10,
   "outputs": [],
   "source": [
    "all_population_data = csvStruc.spark.read.csv(\n",
    "        \"hdfs://localhost:9000/user/steez/populationCensusByYear/all_years.csv\",\n",
    "        schema=csvStruc.populationSchema)"
   ],
   "metadata": {
    "collapsed": false,
    "ExecuteTime": {
     "end_time": "2023-07-16T21:06:15.190631100Z",
     "start_time": "2023-07-16T21:06:15.123979200Z"
    }
   }
  },
  {
   "cell_type": "code",
   "execution_count": 11,
   "outputs": [
    {
     "name": "stdout",
     "output_type": "stream",
     "text": [
      "+-------------+----+----------------+----------------+---------------------+-----------------------+\n",
      "|         city|year|total_households|total_population|total_male_population|total_female_population|\n",
      "+-------------+----+----------------+----------------+---------------------+-----------------------+\n",
      "|         NAME|null|            null|            null|                 null|                   null|\n",
      "|  WEST BENGAL|2001|        15872083|        80176197|             41465985|               38710212|\n",
      "|  UTTARANCHAL|2001|         1603242|         8489349|              4325924|                4163425|\n",
      "|UTTAR PRADESH|2001|        25757640|       166197921|             87565369|               78632552|\n",
      "|      TRIPURA|2001|          664334|         3199203|              1642225|                1556978|\n",
      "+-------------+----+----------------+----------------+---------------------+-----------------------+\n",
      "only showing top 5 rows\n",
      "\n"
     ]
    }
   ],
   "source": [
    "all_population_data.show(5)"
   ],
   "metadata": {
    "collapsed": false,
    "ExecuteTime": {
     "end_time": "2023-07-16T21:06:15.254577600Z",
     "start_time": "2023-07-16T21:06:15.146522500Z"
    }
   }
  },
  {
   "cell_type": "code",
   "execution_count": 12,
   "outputs": [],
   "source": [
    "pollutiondatadf = pollutiondata.toPandas()"
   ],
   "metadata": {
    "collapsed": false,
    "ExecuteTime": {
     "end_time": "2023-07-16T21:06:21.279467100Z",
     "start_time": "2023-07-16T21:06:15.226580700Z"
    }
   }
  },
  {
   "cell_type": "code",
   "execution_count": 13,
   "outputs": [
    {
     "data": {
      "text/plain": "<Axes: >"
     },
     "execution_count": 13,
     "metadata": {},
     "output_type": "execute_result"
    },
    {
     "data": {
      "text/plain": "<Figure size 640x480 with 1 Axes>",
      "image/png": "[encoded data removed]"
     },
     "metadata": {},
     "output_type": "display_data"
    }
   ],
   "source": [
    "pollutiondatadf.plot()"
   ],
   "metadata": {
    "collapsed": false,
    "ExecuteTime": {
     "end_time": "2023-07-16T21:06:23.298763600Z",
     "start_time": "2023-07-16T21:06:21.281466300Z"
    }
   }
  },
  {
   "cell_type": "code",
   "execution_count": 14,
   "outputs": [],
   "source": [
    "test = ezFunc.extractint('bbbb33hh6h2h11')"
   ],
   "metadata": {
    "collapsed": false,
    "ExecuteTime": {
     "end_time": "2023-07-16T21:06:23.301674Z",
     "start_time": "2023-07-16T21:06:23.300757500Z"
    }
   }
  },
  {
   "cell_type": "code",
   "execution_count": 15,
   "outputs": [
    {
     "name": "stdout",
     "output_type": "stream",
     "text": [
      "336211\n"
     ]
    }
   ],
   "source": [
    "print(test)"
   ],
   "metadata": {
    "collapsed": false,
    "ExecuteTime": {
     "end_time": "2023-07-16T21:06:23.312491600Z",
     "start_time": "2023-07-16T21:06:23.304684600Z"
    }
   }
  },
  {
   "cell_type": "code",
   "execution_count": 16,
   "outputs": [],
   "source": [
    "pollutiondatadf[\"sampling_date\"] = pollutiondatadf[\"sampling_date\"].apply(ezFunc.extractint)"
   ],
   "metadata": {
    "collapsed": false,
    "ExecuteTime": {
     "end_time": "2023-07-16T21:06:23.769834900Z",
     "start_time": "2023-07-16T21:06:23.314492300Z"
    }
   }
  },
  {
   "cell_type": "code",
   "execution_count": 17,
   "outputs": [],
   "source": [
    "pollutiondatadf[\"sampling_date\"] = pollutiondatadf[\"sampling_date\"].apply(ezFunc.givethegoodyear)"
   ],
   "metadata": {
    "collapsed": false,
    "ExecuteTime": {
     "end_time": "2023-07-16T21:06:23.966269700Z",
     "start_time": "2023-07-16T21:06:23.775833800Z"
    }
   }
  },
  {
   "cell_type": "code",
   "execution_count": 18,
   "outputs": [
    {
     "name": "stderr",
     "output_type": "stream",
     "text": [
      "C:\\Users\\steez\\AppData\\Local\\Temp\\ipykernel_24368\\1345836536.py:1: FutureWarning: Indexing with multiple keys (implicitly converted to a tuple of keys) will be deprecated, use a list instead.\n",
      "  grouped_by_year_state_type = pollutiondatadf.groupby([\"sampling_date\", \"state\"])[\"so2\", \"no2\", \"rspm\"].aggregate('mean')\n"
     ]
    }
   ],
   "source": [
    "grouped_by_year_state_type = pollutiondatadf.groupby([\"sampling_date\", \"state\"])[\"so2\", \"no2\", \"rspm\"].aggregate('mean')"
   ],
   "metadata": {
    "collapsed": false,
    "ExecuteTime": {
     "end_time": "2023-07-16T21:06:24.248781200Z",
     "start_time": "2023-07-16T21:06:23.967798Z"
    }
   }
  },
  {
   "cell_type": "code",
   "execution_count": 19,
   "outputs": [
    {
     "name": "stdout",
     "output_type": "stream",
     "text": [
      "                                   so2        no2  rspm\n",
      "sampling_date state                                    \n",
      "1987          Bihar          23.660000  29.463636   NaN\n",
      "              Delhi          15.991303  18.700001   NaN\n",
      "              Goa             4.318182   8.758823   NaN\n",
      "              Gujarat        18.204477  27.465672   NaN\n",
      "              Haryana        43.480000  18.577778   NaN\n",
      "...                                ...        ...   ...\n",
      "2088          Odisha               NaN        NaN   NaN\n",
      "              Puducherry     13.400000  13.200000   NaN\n",
      "              Punjab         17.400000  34.500000   NaN\n",
      "              Rajasthan      33.200001  55.000000   NaN\n",
      "              Uttar Pradesh  28.800001  23.900002   NaN\n",
      "\n",
      "[827 rows x 3 columns]\n"
     ]
    }
   ],
   "source": [
    "print(grouped_by_year_state_type)"
   ],
   "metadata": {
    "collapsed": false,
    "ExecuteTime": {
     "end_time": "2023-07-16T21:06:24.260781100Z",
     "start_time": "2023-07-16T21:06:24.233088700Z"
    }
   }
  },
  {
   "cell_type": "code",
   "execution_count": 20,
   "outputs": [
    {
     "name": "stderr",
     "output_type": "stream",
     "text": [
      "C:\\Users\\steez\\AppData\\Local\\Temp\\ipykernel_24368\\1685270313.py:1: FutureWarning: Indexing with multiple keys (implicitly converted to a tuple of keys) will be deprecated, use a list instead.\n",
      "  grouped_by_yearonly = pollutiondatadf.groupby([\"date\", \"state\"])[\"so2\", \"no2\", \"rspm\"].aggregate('mean')\n"
     ]
    }
   ],
   "source": [
    "grouped_by_yearonly = pollutiondatadf.groupby([\"date\", \"state\"])[\"so2\", \"no2\", \"rspm\"].aggregate('mean')"
   ],
   "metadata": {
    "collapsed": false,
    "ExecuteTime": {
     "end_time": "2023-07-16T21:06:24.388081500Z",
     "start_time": "2023-07-16T21:06:24.249781600Z"
    }
   }
  },
  {
   "cell_type": "code",
   "execution_count": 21,
   "outputs": [
    {
     "name": "stdout",
     "output_type": "stream",
     "text": [
      "                                              so2        no2   rspm\n",
      "date       state                                                   \n",
      "1987-01-01 Gujarat                      19.699999  15.000000    NaN\n",
      "           Rajasthan                          NaN        NaN    NaN\n",
      "           Uttar Pradesh                16.100000        NaN    NaN\n",
      "           West Bengal                  65.150002  86.366669    NaN\n",
      "1987-01-02 Gujarat                      26.450001  45.400002    NaN\n",
      "...                                           ...        ...    ...\n",
      "NA         Maharashtra                  11.500000  33.000000   92.0\n",
      "           Odisha                        9.000000  14.000000  105.0\n",
      "           Tripura                            NaN        NaN    NaN\n",
      "           andaman-and-nicobar-islands        NaN        NaN    NaN\n",
      "date       state                              NaN        NaN    NaN\n",
      "\n",
      "[84415 rows x 3 columns]\n"
     ]
    }
   ],
   "source": [
    "print((grouped_by_yearonly))"
   ],
   "metadata": {
    "collapsed": false,
    "ExecuteTime": {
     "end_time": "2023-07-16T21:06:24.396272Z",
     "start_time": "2023-07-16T21:06:24.388081500Z"
    }
   }
  },
  {
   "cell_type": "code",
   "execution_count": 22,
   "outputs": [],
   "source": [
    "base_group_by = pollutiondatadf.groupby([\"sampling_date\", \"state\"])"
   ],
   "metadata": {
    "collapsed": false,
    "ExecuteTime": {
     "end_time": "2023-07-16T21:06:24.401016400Z",
     "start_time": "2023-07-16T21:06:24.397278200Z"
    }
   }
  },
  {
   "cell_type": "code",
   "execution_count": 23,
   "outputs": [
    {
     "name": "stderr",
     "output_type": "stream",
     "text": [
      "C:\\Users\\steez\\AppData\\Local\\Temp\\ipykernel_24368\\4237236797.py:1: FutureWarning: Indexing with multiple keys (implicitly converted to a tuple of keys) will be deprecated, use a list instead.\n",
      "  grouped_by_state = pollutiondatadf.groupby([\"state\"])[\"so2\", \"no2\", \"rspm\"].aggregate('mean')\n"
     ]
    }
   ],
   "source": [
    "grouped_by_state = pollutiondatadf.groupby([\"state\"])[\"so2\", \"no2\", \"rspm\"].aggregate('mean')"
   ],
   "metadata": {
    "collapsed": false,
    "ExecuteTime": {
     "end_time": "2023-07-16T21:06:24.510514900Z",
     "start_time": "2023-07-16T21:06:24.402265900Z"
    }
   }
  },
  {
   "cell_type": "code",
   "execution_count": 24,
   "outputs": [
    {
     "name": "stdout",
     "output_type": "stream",
     "text": [
      "                                   so2        no2        rspm\n",
      "state                                                        \n",
      "Andhra Pradesh                7.284844  21.704451   78.182823\n",
      "Arunachal Pradesh             3.179105   5.469697   76.629211\n",
      "Assam                         6.723263  14.793691   93.724915\n",
      "Bihar                        19.381475  36.575523  123.705177\n",
      "Chandigarh                    2.676986  18.619404   96.587082\n",
      "Chhattisgarh                 12.846609  24.815960  126.472397\n",
      "Dadra & Nagar Haveli          8.939587  18.293959   76.536530\n",
      "Daman & Diu                   8.192958  16.168926   73.749428\n",
      "Delhi                         8.737273  53.489147  196.639771\n",
      "Goa                           6.827913  12.506337   61.212765\n",
      "Gujarat                      16.656343  24.065630   98.244507\n",
      "Haryana                      14.064957  23.428310  149.860535\n",
      "Himachal Pradesh              2.667013  13.658688   91.870201\n",
      "Jammu & Kashmir               7.180521  12.213181  117.449486\n",
      "Jharkhand                    23.485794  43.366341  168.517761\n",
      "Karnataka                    10.223099  22.702837   79.371803\n",
      "Kerala                        5.322350  14.421889   50.636066\n",
      "Lakshadweep                        NaN        NaN         NaN\n",
      "Madhya Pradesh               11.587410  18.639595  114.717972\n",
      "Maharashtra                  17.366863  32.115372  101.479607\n",
      "Manipur                       3.900000  20.173683   69.815788\n",
      "Meghalaya                     8.955908  10.659706   68.988441\n",
      "Mizoram                       2.085009   6.682171   42.716465\n",
      "Nagaland                      2.059736   8.947266   83.357025\n",
      "Odisha                        5.275874  16.899569   83.619827\n",
      "Puducherry                   11.970638  15.279496   43.418217\n",
      "Punjab                       10.628598  28.085846  173.493713\n",
      "Rajasthan                     7.665725  30.441008  142.016830\n",
      "Sikkim                       19.799999  26.799999   32.000000\n",
      "Tamil Nadu                   11.315134  21.601202   66.585632\n",
      "Telangana                     5.418609  23.864004   85.043007\n",
      "Tripura                            NaN        NaN         NaN\n",
      "Uttar Pradesh                12.528500  27.610096  176.952301\n",
      "Uttarakhand                  24.372957  26.938089  148.978912\n",
      "Uttaranchal                  24.697735  27.163019  121.694336\n",
      "West Bengal                  12.608765  59.075733  115.039902\n",
      "andaman-and-nicobar-islands        NaN        NaN         NaN\n",
      "state                              NaN        NaN         NaN\n"
     ]
    }
   ],
   "source": [
    "print(grouped_by_state)"
   ],
   "metadata": {
    "collapsed": false,
    "ExecuteTime": {
     "end_time": "2023-07-16T21:06:24.511520600Z",
     "start_time": "2023-07-16T21:06:24.464086900Z"
    }
   }
  },
  {
   "cell_type": "code",
   "execution_count": 25,
   "outputs": [],
   "source": [
    "# grouped_by_state.plot.bar()"
   ],
   "metadata": {
    "collapsed": false,
    "ExecuteTime": {
     "end_time": "2023-07-16T21:06:24.511520600Z",
     "start_time": "2023-07-16T21:06:24.471213400Z"
    }
   }
  },
  {
   "cell_type": "code",
   "execution_count": 26,
   "outputs": [
    {
     "name": "stdout",
     "output_type": "stream",
     "text": [
      "      stn_code sampling_date           state     location  \\\n",
      "1          150          1990  Andhra Pradesh    Hyderabad   \n",
      "2          151          1990  Andhra Pradesh    Hyderabad   \n",
      "3          152          1990  Andhra Pradesh    Hyderabad   \n",
      "4          150          1990  Andhra Pradesh    Hyderabad   \n",
      "5          151          1990  Andhra Pradesh    Hyderabad   \n",
      "...        ...           ...             ...          ...   \n",
      "26364      757          2015  Andhra Pradesh  Rajahmundry   \n",
      "26365      757          2015  Andhra Pradesh  Rajahmundry   \n",
      "26366      757          2015  Andhra Pradesh  Rajahmundry   \n",
      "26367      757          2015  Andhra Pradesh  Rajahmundry   \n",
      "26368      757          2015  Andhra Pradesh  Rajahmundry   \n",
      "\n",
      "                                             agency  \\\n",
      "1                                                NA   \n",
      "2                                                NA   \n",
      "3                                                NA   \n",
      "4                                                NA   \n",
      "5                                                NA   \n",
      "...                                             ...   \n",
      "26364  Andhra Pradesh State Pollution Control Board   \n",
      "26365  Andhra Pradesh State Pollution Control Board   \n",
      "26366  Andhra Pradesh State Pollution Control Board   \n",
      "26367  Andhra Pradesh State Pollution Control Board   \n",
      "26368  Andhra Pradesh State Pollution Control Board   \n",
      "\n",
      "                                     type  so2   no2  rspm  spm  \\\n",
      "1      Residential, Rural and other Areas  4.8  17.4   NaN  NaN   \n",
      "2                         Industrial Area  3.1   7.0   NaN  NaN   \n",
      "3      Residential, Rural and other Areas  6.2  28.5   NaN  NaN   \n",
      "4      Residential, Rural and other Areas  6.3  14.7   NaN  NaN   \n",
      "5                         Industrial Area  4.7   7.5   NaN  NaN   \n",
      "...                                   ...  ...   ...   ...  ...   \n",
      "26364                     Industrial Area  7.0  13.0  71.0  NaN   \n",
      "26365                     Industrial Area  7.0  18.0  77.0  NaN   \n",
      "26366                     Industrial Area  8.0  23.0  64.0  NaN   \n",
      "26367                     Industrial Area  7.0  19.0  61.0  NaN   \n",
      "26368                     Industrial Area  6.0  17.0  71.0  NaN   \n",
      "\n",
      "                             location_monitoring_station  pm2_5        date  \n",
      "1                                                     NA    NaN  1990-02-01  \n",
      "2                                                     NA    NaN  1990-02-01  \n",
      "3                                                     NA    NaN  1990-02-01  \n",
      "4                                                     NA    NaN  1990-03-01  \n",
      "5                                                     NA    NaN  1990-03-01  \n",
      "...                                                  ...    ...         ...  \n",
      "26364  Staff Club Building, M/s A.P. Paper Mill, Raja...    NaN  2015-12-13  \n",
      "26365  Staff Club Building, M/s A.P. Paper Mill, Raja...    NaN  2015-12-16  \n",
      "26366  Staff Club Building, M/s A.P. Paper Mill, Raja...    NaN  2015-12-19  \n",
      "26367  Staff Club Building, M/s A.P. Paper Mill, Raja...    NaN  2015-12-22  \n",
      "26368  Staff Club Building, M/s A.P. Paper Mill, Raja...    NaN  2015-12-25  \n",
      "\n",
      "[26368 rows x 13 columns]\n"
     ]
    }
   ],
   "source": [
    "#onlyAndhra = pollutiondatadf.loc[pollutiondatadf[\"state\"]] == \"Andhra Pradesh\"\n",
    "onlyAndhra = pollutiondatadf[pollutiondatadf.state == 'Andhra Pradesh']\n",
    "print(onlyAndhra)"
   ],
   "metadata": {
    "collapsed": false,
    "ExecuteTime": {
     "end_time": "2023-07-16T21:06:24.603079Z",
     "start_time": "2023-07-16T21:06:24.484045300Z"
    }
   }
  },
  {
   "cell_type": "code",
   "execution_count": 27,
   "outputs": [
    {
     "name": "stderr",
     "output_type": "stream",
     "text": [
      "C:\\Users\\steez\\AppData\\Local\\Temp\\ipykernel_24368\\3653137387.py:1: FutureWarning: Indexing with multiple keys (implicitly converted to a tuple of keys) will be deprecated, use a list instead.\n",
      "  onlyAndhraGrouped = onlyAndhra.groupby([\"date\"])[\"so2\", \"no2\", \"rspm\"].aggregate('max')\n"
     ]
    }
   ],
   "source": [
    "onlyAndhraGrouped = onlyAndhra.groupby([\"date\"])[\"so2\", \"no2\", \"rspm\"].aggregate('max')"
   ],
   "metadata": {
    "collapsed": false,
    "ExecuteTime": {
     "end_time": "2023-07-16T21:06:24.604082600Z",
     "start_time": "2023-07-16T21:06:24.533577200Z"
    }
   }
  },
  {
   "cell_type": "code",
   "execution_count": 28,
   "outputs": [
    {
     "name": "stdout",
     "output_type": "stream",
     "text": [
      "             so2        no2   rspm\n",
      "date                              \n",
      "1990-02-01   6.2  28.500000    NaN\n",
      "1990-03-01   6.4  25.700001    NaN\n",
      "1990-04-01   5.4  23.000000    NaN\n",
      "1990-05-01   4.0  18.600000    NaN\n",
      "1990-06-01   5.6  19.299999    NaN\n",
      "...          ...        ...    ...\n",
      "2015-12-19  11.0  29.000000   80.0\n",
      "2015-12-22   9.0  55.000000  121.0\n",
      "2015-12-24   6.0  56.000000  123.0\n",
      "2015-12-25   9.0  28.000000   96.0\n",
      "2015-12-28   7.0  53.000000  119.0\n",
      "\n",
      "[3670 rows x 3 columns]\n"
     ]
    }
   ],
   "source": [
    "print(onlyAndhraGrouped)"
   ],
   "metadata": {
    "collapsed": false,
    "ExecuteTime": {
     "end_time": "2023-07-16T21:06:24.605079500Z",
     "start_time": "2023-07-16T21:06:24.547811400Z"
    }
   }
  },
  {
   "cell_type": "code",
   "execution_count": 29,
   "outputs": [
    {
     "data": {
      "text/plain": "<Axes: xlabel='date'>"
     },
     "execution_count": 29,
     "metadata": {},
     "output_type": "execute_result"
    },
    {
     "data": {
      "text/plain": "<Figure size 640x480 with 1 Axes>",
      "image/png": "[encoded data removed]"
     },
     "metadata": {},
     "output_type": "display_data"
    }
   ],
   "source": [
    "onlyAndhraGrouped.plot.line()"
   ],
   "metadata": {
    "collapsed": false,
    "ExecuteTime": {
     "end_time": "2023-07-16T21:06:24.749147900Z",
     "start_time": "2023-07-16T21:06:24.554568300Z"
    }
   }
  },
  {
   "cell_type": "code",
   "execution_count": 30,
   "outputs": [
    {
     "data": {
      "text/plain": "1        1990\n2        1990\n3        1990\n4        1990\n5        1990\n         ... \n26364    2015\n26365    2015\n26366    2015\n26367    2015\n26368    2015\nName: date, Length: 26368, dtype: object"
     },
     "execution_count": 30,
     "metadata": {},
     "output_type": "execute_result"
    }
   ],
   "source": [
    "onlyAndhraUpdated = onlyAndhra\n",
    "onlyAndhraUpdated[\"date\"].apply(ezFunc.cut_years)"
   ],
   "metadata": {
    "collapsed": false,
    "ExecuteTime": {
     "end_time": "2023-07-16T21:06:24.765482800Z",
     "start_time": "2023-07-16T21:06:24.726545900Z"
    }
   }
  },
  {
   "cell_type": "code",
   "execution_count": 31,
   "outputs": [
    {
     "name": "stdout",
     "output_type": "stream",
     "text": [
      "      stn_code sampling_date           state     location  \\\n",
      "1          150          1990  Andhra Pradesh    Hyderabad   \n",
      "2          151          1990  Andhra Pradesh    Hyderabad   \n",
      "3          152          1990  Andhra Pradesh    Hyderabad   \n",
      "4          150          1990  Andhra Pradesh    Hyderabad   \n",
      "5          151          1990  Andhra Pradesh    Hyderabad   \n",
      "...        ...           ...             ...          ...   \n",
      "26364      757          2015  Andhra Pradesh  Rajahmundry   \n",
      "26365      757          2015  Andhra Pradesh  Rajahmundry   \n",
      "26366      757          2015  Andhra Pradesh  Rajahmundry   \n",
      "26367      757          2015  Andhra Pradesh  Rajahmundry   \n",
      "26368      757          2015  Andhra Pradesh  Rajahmundry   \n",
      "\n",
      "                                             agency  \\\n",
      "1                                                NA   \n",
      "2                                                NA   \n",
      "3                                                NA   \n",
      "4                                                NA   \n",
      "5                                                NA   \n",
      "...                                             ...   \n",
      "26364  Andhra Pradesh State Pollution Control Board   \n",
      "26365  Andhra Pradesh State Pollution Control Board   \n",
      "26366  Andhra Pradesh State Pollution Control Board   \n",
      "26367  Andhra Pradesh State Pollution Control Board   \n",
      "26368  Andhra Pradesh State Pollution Control Board   \n",
      "\n",
      "                                     type  so2   no2  rspm  spm  \\\n",
      "1      Residential, Rural and other Areas  4.8  17.4   NaN  NaN   \n",
      "2                         Industrial Area  3.1   7.0   NaN  NaN   \n",
      "3      Residential, Rural and other Areas  6.2  28.5   NaN  NaN   \n",
      "4      Residential, Rural and other Areas  6.3  14.7   NaN  NaN   \n",
      "5                         Industrial Area  4.7   7.5   NaN  NaN   \n",
      "...                                   ...  ...   ...   ...  ...   \n",
      "26364                     Industrial Area  7.0  13.0  71.0  NaN   \n",
      "26365                     Industrial Area  7.0  18.0  77.0  NaN   \n",
      "26366                     Industrial Area  8.0  23.0  64.0  NaN   \n",
      "26367                     Industrial Area  7.0  19.0  61.0  NaN   \n",
      "26368                     Industrial Area  6.0  17.0  71.0  NaN   \n",
      "\n",
      "                             location_monitoring_station  pm2_5        date  \n",
      "1                                                     NA    NaN  1990-02-01  \n",
      "2                                                     NA    NaN  1990-02-01  \n",
      "3                                                     NA    NaN  1990-02-01  \n",
      "4                                                     NA    NaN  1990-03-01  \n",
      "5                                                     NA    NaN  1990-03-01  \n",
      "...                                                  ...    ...         ...  \n",
      "26364  Staff Club Building, M/s A.P. Paper Mill, Raja...    NaN  2015-12-13  \n",
      "26365  Staff Club Building, M/s A.P. Paper Mill, Raja...    NaN  2015-12-16  \n",
      "26366  Staff Club Building, M/s A.P. Paper Mill, Raja...    NaN  2015-12-19  \n",
      "26367  Staff Club Building, M/s A.P. Paper Mill, Raja...    NaN  2015-12-22  \n",
      "26368  Staff Club Building, M/s A.P. Paper Mill, Raja...    NaN  2015-12-25  \n",
      "\n",
      "[26368 rows x 13 columns]\n"
     ]
    }
   ],
   "source": [
    "print(onlyAndhraUpdated)"
   ],
   "metadata": {
    "collapsed": false,
    "ExecuteTime": {
     "end_time": "2023-07-16T21:06:24.816129100Z",
     "start_time": "2023-07-16T21:06:24.749147900Z"
    }
   }
  },
  {
   "cell_type": "code",
   "execution_count": 32,
   "outputs": [
    {
     "name": "stderr",
     "output_type": "stream",
     "text": [
      "C:\\Users\\steez\\AppData\\Local\\Temp\\ipykernel_24368\\2502252003.py:1: FutureWarning: Indexing with multiple keys (implicitly converted to a tuple of keys) will be deprecated, use a list instead.\n",
      "  onlyAndhraYearsGroupedMax = onlyAndhraUpdated.groupby([\"date\"])[\"so2\", \"no2\", \"rspm\"].aggregate('max')\n",
      "C:\\Users\\steez\\AppData\\Local\\Temp\\ipykernel_24368\\2502252003.py:2: FutureWarning: Indexing with multiple keys (implicitly converted to a tuple of keys) will be deprecated, use a list instead.\n",
      "  onlyAndhraYearsGroupedMean = onlyAndhraUpdated.groupby([\"date\"])[\"so2\", \"no2\", \"rspm\"].aggregate('mean')\n"
     ]
    }
   ],
   "source": [
    "onlyAndhraYearsGroupedMax = onlyAndhraUpdated.groupby([\"date\"])[\"so2\", \"no2\", \"rspm\"].aggregate('max')\n",
    "onlyAndhraYearsGroupedMean = onlyAndhraUpdated.groupby([\"date\"])[\"so2\", \"no2\", \"rspm\"].aggregate('mean')"
   ],
   "metadata": {
    "collapsed": false,
    "ExecuteTime": {
     "end_time": "2023-07-16T21:06:24.816129100Z",
     "start_time": "2023-07-16T21:06:24.764483600Z"
    }
   }
  },
  {
   "cell_type": "code",
   "execution_count": 33,
   "outputs": [
    {
     "name": "stdout",
     "output_type": "stream",
     "text": [
      "             so2        no2   rspm\n",
      "date                              \n",
      "1990-02-01   6.2  28.500000    NaN\n",
      "1990-03-01   6.4  25.700001    NaN\n",
      "1990-04-01   5.4  23.000000    NaN\n",
      "1990-05-01   4.0  18.600000    NaN\n",
      "1990-06-01   5.6  19.299999    NaN\n",
      "...          ...        ...    ...\n",
      "2015-12-19  11.0  29.000000   80.0\n",
      "2015-12-22   9.0  55.000000  121.0\n",
      "2015-12-24   6.0  56.000000  123.0\n",
      "2015-12-25   9.0  28.000000   96.0\n",
      "2015-12-28   7.0  53.000000  119.0\n",
      "\n",
      "[3670 rows x 3 columns]\n",
      "                 so2        no2       rspm\n",
      "date                                      \n",
      "1990-02-01  4.700000  17.633333        NaN\n",
      "1990-03-01  5.800000  15.966667        NaN\n",
      "1990-04-01  4.766666  16.266666        NaN\n",
      "1990-05-01  3.800000  13.750000        NaN\n",
      "1990-06-01  4.266667  15.066667        NaN\n",
      "...              ...        ...        ...\n",
      "2015-12-19  8.333333  19.250000  67.916664\n",
      "2015-12-22  6.500000  23.583334  71.041664\n",
      "2015-12-24  5.307693  28.230770  79.923080\n",
      "2015-12-25  7.416667  18.416666  71.333336\n",
      "2015-12-28  5.416667  26.666666  78.666664\n",
      "\n",
      "[3670 rows x 3 columns]\n"
     ]
    }
   ],
   "source": [
    "print(onlyAndhraYearsGroupedMax)\n",
    "print(onlyAndhraYearsGroupedMean)"
   ],
   "metadata": {
    "collapsed": false,
    "ExecuteTime": {
     "end_time": "2023-07-16T21:06:24.816129100Z",
     "start_time": "2023-07-16T21:06:24.765852Z"
    }
   }
  },
  {
   "cell_type": "code",
   "execution_count": 34,
   "outputs": [
    {
     "data": {
      "text/plain": "<Axes: xlabel='date'>"
     },
     "execution_count": 34,
     "metadata": {},
     "output_type": "execute_result"
    },
    {
     "data": {
      "text/plain": "<Figure size 640x480 with 1 Axes>",
      "image/png": "[encoded data removed]"
     },
     "metadata": {},
     "output_type": "display_data"
    },
    {
     "data": {
      "text/plain": "<Figure size 640x480 with 1 Axes>",
      "image/png": "[encoded data removed]"
     },
     "metadata": {},
     "output_type": "display_data"
    }
   ],
   "source": [
    "onlyAndhraYearsGroupedMax.plot.line()\n",
    "onlyAndhraYearsGroupedMean.plot.line()"
   ],
   "metadata": {
    "collapsed": false,
    "ExecuteTime": {
     "end_time": "2023-07-16T21:06:25.103931Z",
     "start_time": "2023-07-16T21:06:24.767363400Z"
    }
   }
  },
  {
   "cell_type": "code",
   "execution_count": 35,
   "outputs": [],
   "source": [
    "all_population_data_df = all_population_data.toPandas()"
   ],
   "metadata": {
    "collapsed": false,
    "ExecuteTime": {
     "end_time": "2023-07-16T21:06:25.344697Z",
     "start_time": "2023-07-16T21:06:25.109037900Z"
    }
   }
  },
  {
   "cell_type": "code",
   "execution_count": 60,
   "outputs": [],
   "source": [
    "pollutiondatadf_filtered_years = pollutiondatadf"
   ],
   "metadata": {
    "collapsed": false,
    "ExecuteTime": {
     "end_time": "2023-07-16T21:19:59.215183800Z",
     "start_time": "2023-07-16T21:19:59.193284600Z"
    }
   }
  },
  {
   "cell_type": "code",
   "execution_count": 65,
   "outputs": [],
   "source": [
    "pollutiondatadf_filtered_years[\"date\"] = pollutiondatadf_filtered_years[\"date\"].apply(ezFunc.cut_years)"
   ],
   "metadata": {
    "collapsed": false,
    "ExecuteTime": {
     "end_time": "2023-07-16T21:21:05.764935900Z",
     "start_time": "2023-07-16T21:21:05.631321900Z"
    }
   }
  },
  {
   "cell_type": "code",
   "execution_count": 66,
   "outputs": [
    {
     "name": "stdout",
     "output_type": "stream",
     "text": [
      "        stn_code sampling_date                        state   location  \\\n",
      "0       stn_code          2000                        state   location   \n",
      "1            150          1990               Andhra Pradesh  Hyderabad   \n",
      "2            151          1990               Andhra Pradesh  Hyderabad   \n",
      "3            152          1990               Andhra Pradesh  Hyderabad   \n",
      "4            150          1990               Andhra Pradesh  Hyderabad   \n",
      "...          ...           ...                          ...        ...   \n",
      "435738      SAMP          2015                  West Bengal   ULUBERIA   \n",
      "435739      SAMP          2015                  West Bengal   ULUBERIA   \n",
      "435740        NA          2000  andaman-and-nicobar-islands         NA   \n",
      "435741        NA          2000                  Lakshadweep         NA   \n",
      "435742        NA          2000                      Tripura         NA   \n",
      "\n",
      "                                           agency  \\\n",
      "0                                          agency   \n",
      "1                                              NA   \n",
      "2                                              NA   \n",
      "3                                              NA   \n",
      "4                                              NA   \n",
      "...                                           ...   \n",
      "435738  West Bengal State Pollution Control Board   \n",
      "435739  West Bengal State Pollution Control Board   \n",
      "435740                                         NA   \n",
      "435741                                         NA   \n",
      "435742                                         NA   \n",
      "\n",
      "                                      type   so2   no2   rspm  spm  \\\n",
      "0                                     type   NaN   NaN    NaN  NaN   \n",
      "1       Residential, Rural and other Areas   4.8  17.4    NaN  NaN   \n",
      "2                          Industrial Area   3.1   7.0    NaN  NaN   \n",
      "3       Residential, Rural and other Areas   6.2  28.5    NaN  NaN   \n",
      "4       Residential, Rural and other Areas   6.3  14.7    NaN  NaN   \n",
      "...                                    ...   ...   ...    ...  ...   \n",
      "435738                               RIRUO  22.0  50.0  143.0  NaN   \n",
      "435739                               RIRUO  20.0  46.0  171.0  NaN   \n",
      "435740                                  NA   NaN   NaN    NaN  NaN   \n",
      "435741                                  NA   NaN   NaN    NaN  NaN   \n",
      "435742                                  NA   NaN   NaN    NaN  NaN   \n",
      "\n",
      "              location_monitoring_station  pm2_5  date  \n",
      "0             location_monitoring_station    NaN  date  \n",
      "1                                      NA    NaN  1990  \n",
      "2                                      NA    NaN  1990  \n",
      "3                                      NA    NaN  1990  \n",
      "4                                      NA    NaN  1990  \n",
      "...                                   ...    ...   ...  \n",
      "435738  Inside Rampal Industries,ULUBERIA    NaN  2015  \n",
      "435739  Inside Rampal Industries,ULUBERIA    NaN  2015  \n",
      "435740                                 NA    NaN    NA  \n",
      "435741                                 NA    NaN    NA  \n",
      "435742                                 NA    NaN    NA  \n",
      "\n",
      "[435743 rows x 13 columns]\n"
     ]
    }
   ],
   "source": [
    "print(pollutiondatadf_filtered_years)"
   ],
   "metadata": {
    "collapsed": false,
    "ExecuteTime": {
     "end_time": "2023-07-16T21:21:08.361247700Z",
     "start_time": "2023-07-16T21:21:08.335846200Z"
    }
   }
  },
  {
   "cell_type": "code",
   "execution_count": 68,
   "outputs": [
    {
     "name": "stdout",
     "output_type": "stream",
     "text": [
      "city                       year  \n",
      "ANDAMAN & NICOBAR ISLANDS  2001.0    356152.0\n",
      "                           2002.0    239954.0\n",
      "                           2003.0    239954.0\n",
      "                           2004.0    239954.0\n",
      "                           2005.0    239954.0\n",
      "                                       ...   \n",
      "Zunheboto                  2013.0    113160.0\n",
      "                           2014.0    113160.0\n",
      "                           2015.0    113160.0\n",
      "                           2016.0    113160.0\n",
      "                           2017.0    113160.0\n",
      "Name: total_population, Length: 11577, dtype: float64\n"
     ]
    }
   ],
   "source": [
    "all_population_data_df_by_year = all_population_data_df.groupby([\"city\", \"year\"])[\"total_population\"].aggregate('max')\n",
    "print(all_population_data_df_by_year)"
   ],
   "metadata": {
    "collapsed": false,
    "ExecuteTime": {
     "end_time": "2023-07-16T21:22:11.694300100Z",
     "start_time": "2023-07-16T21:22:11.662521400Z"
    }
   }
  },
  {
   "cell_type": "code",
   "execution_count": 40,
   "outputs": [
    {
     "name": "stdout",
     "output_type": "stream",
     "text": [
      "hihi\n",
      "\n"
     ]
    }
   ],
   "source": [
    "ezFunc.get_pollution_by_city_and_year(city = 'hihi')"
   ],
   "metadata": {
    "collapsed": false,
    "ExecuteTime": {
     "end_time": "2023-07-16T21:06:45.428079Z",
     "start_time": "2023-07-16T21:06:45.416069300Z"
    }
   }
  },
  {
   "cell_type": "code",
   "execution_count": 104,
   "outputs": [
    {
     "name": "stdout",
     "output_type": "stream",
     "text": [
      "      stn_code sampling_date           state     location  \\\n",
      "1          150          1990  Andhra Pradesh    Hyderabad   \n",
      "2          151          1990  Andhra Pradesh    Hyderabad   \n",
      "3          152          1990  Andhra Pradesh    Hyderabad   \n",
      "4          150          1990  Andhra Pradesh    Hyderabad   \n",
      "5          151          1990  Andhra Pradesh    Hyderabad   \n",
      "...        ...           ...             ...          ...   \n",
      "26364      757          2015  Andhra Pradesh  Rajahmundry   \n",
      "26365      757          2015  Andhra Pradesh  Rajahmundry   \n",
      "26366      757          2015  Andhra Pradesh  Rajahmundry   \n",
      "26367      757          2015  Andhra Pradesh  Rajahmundry   \n",
      "26368      757          2015  Andhra Pradesh  Rajahmundry   \n",
      "\n",
      "                                             agency  \\\n",
      "1                                                NA   \n",
      "2                                                NA   \n",
      "3                                                NA   \n",
      "4                                                NA   \n",
      "5                                                NA   \n",
      "...                                             ...   \n",
      "26364  Andhra Pradesh State Pollution Control Board   \n",
      "26365  Andhra Pradesh State Pollution Control Board   \n",
      "26366  Andhra Pradesh State Pollution Control Board   \n",
      "26367  Andhra Pradesh State Pollution Control Board   \n",
      "26368  Andhra Pradesh State Pollution Control Board   \n",
      "\n",
      "                                     type  so2   no2  rspm  spm  \\\n",
      "1      Residential, Rural and other Areas  4.8  17.4   NaN  NaN   \n",
      "2                         Industrial Area  3.1   7.0   NaN  NaN   \n",
      "3      Residential, Rural and other Areas  6.2  28.5   NaN  NaN   \n",
      "4      Residential, Rural and other Areas  6.3  14.7   NaN  NaN   \n",
      "5                         Industrial Area  4.7   7.5   NaN  NaN   \n",
      "...                                   ...  ...   ...   ...  ...   \n",
      "26364                     Industrial Area  7.0  13.0  71.0  NaN   \n",
      "26365                     Industrial Area  7.0  18.0  77.0  NaN   \n",
      "26366                     Industrial Area  8.0  23.0  64.0  NaN   \n",
      "26367                     Industrial Area  7.0  19.0  61.0  NaN   \n",
      "26368                     Industrial Area  6.0  17.0  71.0  NaN   \n",
      "\n",
      "                             location_monitoring_station  pm2_5  date  \n",
      "1                                                     NA    NaN  1990  \n",
      "2                                                     NA    NaN  1990  \n",
      "3                                                     NA    NaN  1990  \n",
      "4                                                     NA    NaN  1990  \n",
      "5                                                     NA    NaN  1990  \n",
      "...                                                  ...    ...   ...  \n",
      "26364  Staff Club Building, M/s A.P. Paper Mill, Raja...    NaN  2015  \n",
      "26365  Staff Club Building, M/s A.P. Paper Mill, Raja...    NaN  2015  \n",
      "26366  Staff Club Building, M/s A.P. Paper Mill, Raja...    NaN  2015  \n",
      "26367  Staff Club Building, M/s A.P. Paper Mill, Raja...    NaN  2015  \n",
      "26368  Staff Club Building, M/s A.P. Paper Mill, Raja...    NaN  2015  \n",
      "\n",
      "[26368 rows x 13 columns]\n"
     ]
    }
   ],
   "source": [
    "onlyAndhra = pollutiondatadf_filtered_years[pollutiondatadf.state == 'Andhra Pradesh']\n",
    "print(onlyAndhra)"
   ],
   "metadata": {
    "collapsed": false,
    "ExecuteTime": {
     "end_time": "2023-07-16T21:57:05.651086900Z",
     "start_time": "2023-07-16T21:57:05.599702400Z"
    }
   }
  },
  {
   "cell_type": "code",
   "execution_count": 152,
   "outputs": [],
   "source": [
    "def get_pollution_by_city_and_year(the_dataframe, searched_state = '', searched_year = '', short=False):\n",
    "\n",
    "        full_data_frame = the_dataframe\n",
    "        searched_year = str(searched_year)\n",
    "        if searched_state != '':\n",
    "                full_data_frame = full_data_frame[full_data_frame.state == searched_state]\n",
    "\n",
    "        if searched_year != '':\n",
    "                full_data_frame = full_data_frame[full_data_frame.date == searched_year]\n",
    "\n",
    "        if short:\n",
    "                full_data_frame = full_data_frame.groupby([\"state\", 'date'])[\"so2\", \"no2\", \"rspm\"].aggregate('mean')\n",
    "\n",
    "        return full_data_frame\n"
   ],
   "metadata": {
    "collapsed": false,
    "ExecuteTime": {
     "end_time": "2023-07-16T22:35:49.437642700Z",
     "start_time": "2023-07-16T22:35:49.425626600Z"
    }
   }
  },
  {
   "cell_type": "markdown",
   "source": [],
   "metadata": {
    "collapsed": false
   }
  },
  {
   "cell_type": "code",
   "execution_count": 161,
   "outputs": [
    {
     "name": "stderr",
     "output_type": "stream",
     "text": [
      "C:\\Users\\steez\\AppData\\Local\\Temp\\ipykernel_24368\\3002228748.py:12: FutureWarning: Indexing with multiple keys (implicitly converted to a tuple of keys) will be deprecated, use a list instead.\n",
      "  full_data_frame = full_data_frame.groupby([\"state\", 'date'])[\"so2\", \"no2\", \"rspm\"].aggregate('mean')\n",
      "C:\\Users\\steez\\AppData\\Local\\Temp\\ipykernel_24368\\3002228748.py:12: FutureWarning: Indexing with multiple keys (implicitly converted to a tuple of keys) will be deprecated, use a list instead.\n",
      "  full_data_frame = full_data_frame.groupby([\"state\", 'date'])[\"so2\", \"no2\", \"rspm\"].aggregate('mean')\n"
     ]
    }
   ],
   "source": [
    "test = get_pollution_by_city_and_year(pollutiondatadf_filtered_years, searched_year='1990', short=True)\n",
    "test2 = get_pollution_by_city_and_year(pollutiondatadf_filtered_years, short=True)\n",
    "test3 = get_pollution_by_city_and_year(pollutiondatadf_filtered_years)\n"
   ],
   "metadata": {
    "collapsed": false,
    "ExecuteTime": {
     "end_time": "2023-07-16T22:39:33.243482300Z",
     "start_time": "2023-07-16T22:39:33.133318800Z"
    }
   }
  },
  {
   "cell_type": "code",
   "execution_count": 162,
   "outputs": [],
   "source": [
    "test4 = test2.index"
   ],
   "metadata": {
    "collapsed": false,
    "ExecuteTime": {
     "end_time": "2023-07-16T22:39:34.705568500Z",
     "start_time": "2023-07-16T22:39:34.682285100Z"
    }
   }
  },
  {
   "cell_type": "code",
   "execution_count": 176,
   "outputs": [
    {
     "name": "stdout",
     "output_type": "stream",
     "text": [
      "('Haryana', '2014')\n"
     ]
    }
   ],
   "source": [
    "print(test4[255])"
   ],
   "metadata": {
    "collapsed": false,
    "ExecuteTime": {
     "end_time": "2023-07-16T22:40:41.763140100Z",
     "start_time": "2023-07-16T22:40:41.738093400Z"
    }
   }
  },
  {
   "cell_type": "code",
   "execution_count": 195,
   "outputs": [
    {
     "name": "stdout",
     "output_type": "stream",
     "text": [
      "                                        so2        no2        rspm\n",
      "state                       date                                  \n",
      "Andhra Pradesh              1990   8.868966  15.296552         NaN\n",
      "                            1991  10.811111  18.827778         NaN\n",
      "                            1992  19.976471  36.252941         NaN\n",
      "                            1993   8.544445  15.961110         NaN\n",
      "                            1994  10.760318  18.273016         NaN\n",
      "...                                     ...        ...         ...\n",
      "West Bengal                 2013  10.454103  63.811207  157.493271\n",
      "                            2014   8.076540  57.616055  115.317360\n",
      "                            2015   7.416064  45.948193  106.211136\n",
      "andaman-and-nicobar-islands NA          NaN        NaN         NaN\n",
      "state                       date        NaN        NaN         NaN\n",
      "\n",
      "[667 rows x 3 columns]\n"
     ]
    }
   ],
   "source": [
    "print(test2)"
   ],
   "metadata": {
    "collapsed": false,
    "ExecuteTime": {
     "end_time": "2023-07-16T22:48:04.212842700Z",
     "start_time": "2023-07-16T22:48:04.189688500Z"
    }
   }
  },
  {
   "cell_type": "code",
   "execution_count": 199,
   "outputs": [
    {
     "name": "stdout",
     "output_type": "stream",
     "text": [
      "Andhra Pradesh 10.811111\n"
     ]
    }
   ],
   "source": [
    "print(test2.index[1][0], test2['so2'][1])"
   ],
   "metadata": {
    "collapsed": false,
    "ExecuteTime": {
     "end_time": "2023-07-16T22:59:47.136774100Z",
     "start_time": "2023-07-16T22:59:47.130042900Z"
    }
   }
  },
  {
   "cell_type": "code",
   "execution_count": 202,
   "outputs": [
    {
     "ename": "TypeError",
     "evalue": "scatter() missing 1 required positional argument: 'y'",
     "output_type": "error",
     "traceback": [
      "\u001B[1;31m---------------------------------------------------------------------------\u001B[0m",
      "\u001B[1;31mTypeError\u001B[0m                                 Traceback (most recent call last)",
      "Cell \u001B[1;32mIn[202], line 1\u001B[0m\n\u001B[1;32m----> 1\u001B[0m plt\u001B[38;5;241m.\u001B[39mscatter(test2)\n",
      "\u001B[1;31mTypeError\u001B[0m: scatter() missing 1 required positional argument: 'y'"
     ]
    }
   ],
   "source": [],
   "metadata": {
    "collapsed": false,
    "ExecuteTime": {
     "end_time": "2023-07-16T23:00:51.304065900Z",
     "start_time": "2023-07-16T23:00:51.285990400Z"
    }
   }
  },
  {
   "cell_type": "code",
   "execution_count": 198,
   "outputs": [
    {
     "name": "stdout",
     "output_type": "stream",
     "text": [
      "8.868966\n",
      "10.811111\n",
      "19.97647\n",
      "8.544445\n",
      "10.760318\n",
      "17.225275\n",
      "20.356045\n",
      "21.069231\n",
      "11.491892\n",
      "14.384259\n",
      "13.885046\n",
      "12.000952\n",
      "7.5066667\n",
      "7.3387666\n",
      "6.1059127\n",
      "7.933036\n",
      "6.5389414\n",
      "6.935286\n",
      "7.343622\n",
      "5.365275\n",
      "4.6428776\n",
      "7.4381742\n",
      "7.3791304\n",
      "8.658371\n",
      "6.8926773\n",
      "2.0\n",
      "3.7555556\n",
      "12.8\n",
      "15.354762\n",
      "6.0477276\n",
      "6.4027777\n",
      "1.978125\n",
      "2.95\n",
      "nan\n",
      "7.2083335\n",
      "3.7083333\n",
      "3.1416667\n",
      "3.1891892\n",
      "5.327\n",
      "6.1905713\n",
      "7.359834\n",
      "6.377759\n",
      "6.822799\n",
      "7.050863\n",
      "6.083541\n",
      "6.9416084\n",
      "6.808833\n",
      "6.9975133\n",
      "27.5125\n",
      "29.31143\n",
      "27.051613\n",
      "36.486767\n",
      "37.85397\n",
      "29.445456\n",
      "26.534782\n",
      "31.231915\n",
      "29.464584\n",
      "36.018646\n",
      "35.154217\n",
      "45.935135\n",
      "52.655\n",
      "26.654217\n",
      "23.372839\n",
      "24.355072\n",
      "11.542713\n",
      "12.279104\n",
      "9.984524\n",
      "9.745198\n",
      "6.864486\n",
      "4.708696\n",
      "6.488\n",
      "4.25\n",
      "6.0732985\n",
      "8.386667\n",
      "6.8294115\n",
      "9.366667\n",
      "nan\n",
      "13.311111\n",
      "6.678571\n",
      "10.423077\n",
      "6.941667\n",
      "6.5750003\n",
      "5.25\n",
      "6.5\n",
      "nan\n",
      "nan\n",
      "8.005\n",
      "6.1281137\n",
      "5.194156\n",
      "3.9375\n",
      "5.3\n",
      "5.3\n",
      "5.8\n",
      "2.0053692\n",
      "2.0136364\n",
      "2.0\n",
      "2.0070589\n",
      "2.0\n",
      "2.0\n",
      "9.599999\n",
      "8.46\n",
      "15.3714285\n",
      "15.111111\n",
      "13.38\n",
      "13.541667\n",
      "12.6125\n",
      "12.657143\n",
      "13.183523\n",
      "14.657964\n",
      "15.303388\n",
      "14.875889\n",
      "15.903115\n",
      "14.806977\n",
      "11.726208\n",
      "11.282353\n",
      "10.31769\n",
      "10.292604\n",
      "10.16279\n",
      "9.809524\n",
      "5.1142855\n",
      "5.4\n",
      "5.372727\n",
      "5.4\n",
      "10.641176\n",
      "9.852884\n",
      "8.589855\n",
      "7.138298\n",
      "7.5927835\n",
      "7.618667\n",
      "15.883721\n",
      "6.3624997\n",
      "4.1472225\n",
      "4.042424\n",
      "8.5\n",
      "8.019231\n",
      "4.428571\n",
      "3.8\n",
      "12.3\n",
      "9.779126\n",
      "7.273134\n",
      "7.1770835\n",
      "7.490991\n",
      "7.6289473\n",
      "14.454545\n",
      "15.991303\n",
      "11.990909\n",
      "15.083673\n",
      "19.72381\n",
      "20.527779\n",
      "18.672632\n",
      "24.86\n",
      "23.117592\n",
      "17.757692\n",
      "16.437037\n",
      "15.6285715\n",
      "17.334259\n",
      "15.089814\n",
      "12.912122\n",
      "10.95\n",
      "9.939169\n",
      "nan\n",
      "9.254006\n",
      "9.54844\n",
      "6.3248706\n",
      "7.091783\n",
      "6.4868546\n",
      "5.3251367\n",
      "7.4444447\n",
      "4.487085\n",
      "5.137174\n",
      "5.6388507\n",
      "4.0583334\n",
      "4.988889\n",
      "4.390909\n",
      "6.2833333\n",
      "6.5416665\n",
      "5.9\n",
      "16.2\n",
      "25.2125\n",
      "81.1\n",
      "65.566666\n",
      "74.799995\n",
      "55.899998\n",
      "28.36\n",
      "50.61667\n",
      "46.02727\n",
      "28.199999\n",
      "0.0\n",
      "2.72438\n",
      "11.590476\n",
      "10.322223\n",
      "4.4113636\n",
      "4.366667\n",
      "5.4650793\n",
      "12.337349\n",
      "8.651014\n",
      "6.231884\n",
      "7.0479493\n",
      "3.2592592\n",
      "4.399653\n",
      "17.788733\n",
      "18.225807\n",
      "23.243244\n",
      "17.995337\n",
      "21.781216\n",
      "21.646835\n",
      "28.022806\n",
      "36.14744\n",
      "50.59908\n",
      "42.3316\n",
      "21.493685\n",
      "12.458333\n",
      "31.487057\n",
      "10.755102\n",
      "11.53617\n",
      "13.935339\n",
      "0.0\n",
      "18.606937\n",
      "17.210203\n",
      "16.407116\n",
      "16.430328\n",
      "14.225191\n",
      "16.121582\n",
      "15.479082\n",
      "14.943669\n",
      "15.258531\n",
      "12.7445545\n",
      "14.255569\n",
      "14.369445\n",
      "43.418182\n",
      "33.212498\n",
      "30.380953\n",
      "30.758333\n",
      "33.757145\n",
      "32.039127\n",
      "33.225002\n",
      "33.588463\n",
      "36.32353\n",
      "32.850002\n",
      "31.270586\n",
      "33.29091\n",
      "27.392307\n",
      "25.4125\n",
      "22.849998\n",
      "18.280556\n",
      "12.952265\n",
      "10.573644\n",
      "10.159788\n",
      "8.061582\n",
      "9.668033\n",
      "12.694118\n",
      "14.634409\n",
      "13.702272\n",
      "9.71134\n",
      "12.168141\n",
      "13.11062\n",
      "15.294871\n",
      "nan\n",
      "0.4\n",
      "2.55\n",
      "3.4946427\n",
      "2.6229167\n",
      "8.7\n",
      "3.9571428\n",
      "0.89375\n",
      "6.309375\n",
      "2.7979167\n",
      "1.8254237\n",
      "1.3042105\n",
      "3.2093751\n",
      "3.5083332\n",
      "3.4740036\n",
      "5.2774568\n",
      "4.889177\n",
      "3.601996\n",
      "3.2470167\n",
      "3.5369167\n",
      "2.7565873\n",
      "2.5589826\n",
      "2.054054\n",
      "2.1590657\n",
      "2.1472187\n",
      "2.3745956\n",
      "8.430527\n",
      "6.4444447\n",
      "5.301587\n",
      "5.811881\n",
      "14.74138\n",
      "5.3812156\n",
      "3.5259259\n",
      "26.523787\n",
      "26.237215\n",
      "32.222137\n",
      "26.060732\n",
      "25.67115\n",
      "25.65011\n",
      "23.5141\n",
      "21.257105\n",
      "22.75767\n",
      "22.32161\n",
      "13.863334\n",
      "19.331646\n",
      "18.377779\n",
      "24.233334\n",
      "19.89186\n",
      "19.22889\n",
      "16.708197\n",
      "18.966667\n",
      "24.041666\n",
      "25.545832\n",
      "33.54091\n",
      "29.894737\n",
      "29.933332\n",
      "34.831665\n",
      "34.99138\n",
      "24.608475\n",
      "20.819643\n",
      "16.071667\n",
      "8.890435\n",
      "10.36988\n",
      "12.8225975\n",
      "12.432494\n",
      "11.861159\n",
      "10.849551\n",
      "10.332101\n",
      "11.253374\n",
      "8.545925\n",
      "8.320222\n",
      "5.547194\n",
      "6.0\n",
      "nan\n",
      "3.8333333\n",
      "4.873077\n",
      "7.021795\n",
      "5.330612\n",
      "7.1075187\n",
      "9.029605\n",
      "11.847436\n",
      "10.0759735\n",
      "8.336364\n",
      "9.346452\n",
      "8.1\n",
      "11.046795\n",
      "14.067284\n",
      "9.97764\n",
      "9.09817\n",
      "9.935364\n",
      "9.656917\n",
      "8.001633\n",
      "6.945961\n",
      "6.62\n",
      "4.3366346\n",
      "4.2272835\n",
      "3.951666\n",
      "3.8589923\n",
      "4.1682243\n",
      "3.9335525\n",
      "nan\n",
      "14.161539\n",
      "18.477552\n",
      "17.585073\n",
      "15.699213\n",
      "17.78125\n",
      "18.084496\n",
      "13.919999\n",
      "21.009525\n",
      "18.384756\n",
      "20.711689\n",
      "19.322222\n",
      "18.492857\n",
      "20.469753\n",
      "19.08808\n",
      "13.617647\n",
      "0.0\n",
      "8.255949\n",
      "12.522727\n",
      "11.267108\n",
      "10.903458\n",
      "11.852287\n",
      "11.509923\n",
      "11.295002\n",
      "12.106933\n",
      "12.504183\n",
      "12.21067\n",
      "10.613005\n",
      "10.668613\n",
      "8.271429\n",
      "7.1708336\n",
      "9.58\n",
      "17.325325\n",
      "14.436055\n",
      "14.753846\n",
      "15.092624\n",
      "17.435\n",
      "18.571632\n",
      "18.13234\n",
      "23.583544\n",
      "25.141367\n",
      "21.496853\n",
      "20.151611\n",
      "20.128347\n",
      "18.375282\n",
      "5.903475\n",
      "19.84779\n",
      "20.353806\n",
      "18.298466\n",
      "18.459686\n",
      "17.866201\n",
      "15.453224\n",
      "17.095385\n",
      "17.424545\n",
      "16.802458\n",
      "16.61454\n",
      "18.14535\n",
      "16.065306\n",
      "11.5\n",
      "3.5111113\n",
      "4.9\n",
      "2.778261\n",
      "nan\n",
      "6.2916665\n",
      "0.9166667\n",
      "0.925\n",
      "0.9857143\n",
      "3.8681817\n",
      "3.94\n",
      "3.065\n",
      "5.347619\n",
      "4.6133337\n",
      "22.0\n",
      "6.0\n",
      "24.188786\n",
      "17.438818\n",
      "8.595294\n",
      "5.369735\n",
      "4.875205\n",
      "4.9869404\n",
      "nan\n",
      "3.568\n",
      "5.3\n",
      "nan\n",
      "2.0\n",
      "2.0\n",
      "2.0\n",
      "2.1385603\n",
      "2.0415204\n",
      "2.0372727\n",
      "nan\n",
      "nan\n",
      "2.7714286\n",
      "3.1216216\n",
      "5.3\n",
      "3.7\n",
      "2.0\n",
      "2.0\n",
      "2.0\n",
      "2.0\n",
      "nan\n",
      "15.6\n",
      "14.9\n",
      "8.416667\n",
      "15.033334\n",
      "15.576271\n",
      "25.263933\n",
      "25.324\n",
      "26.076923\n",
      "16.614546\n",
      "18.743637\n",
      "16.673971\n",
      "12.241791\n",
      "10.664634\n",
      "9.10625\n",
      "10.630488\n",
      "3.1750271\n",
      "5.254074\n",
      "5.206243\n",
      "5.591398\n",
      "6.479314\n",
      "6.5441914\n",
      "4.268663\n",
      "2.1527379\n",
      "4.113881\n",
      "4.086673\n",
      "5.0162463\n",
      "4.938545\n",
      "9.0\n",
      "10.044445\n",
      "8.336364\n",
      "9.984848\n",
      "9.696667\n",
      "17.947222\n",
      "27.961113\n",
      "45.83611\n",
      "51.863888\n",
      "58.20555\n",
      "60.830303\n",
      "41.010002\n",
      "19.246153\n",
      "13.816\n",
      "16.665714\n",
      "22.217545\n",
      "15.67619\n",
      "9.648906\n",
      "4.523581\n",
      "4.670297\n",
      "2.9729729\n",
      "5.829039\n",
      "7.23379\n",
      "7.5066667\n",
      "6.1968503\n",
      "9.015113\n",
      "9.736842\n",
      "nan\n",
      "11.166667\n",
      "0.49473682\n",
      "21.789286\n",
      "22.075\n",
      "24.90303\n",
      "42.2\n",
      "16.16279\n",
      "20.797468\n",
      "20.690111\n",
      "15.632291\n",
      "14.813541\n",
      "11.684375\n",
      "11.467033\n",
      "14.870968\n",
      "15.67136\n",
      "12.25264\n",
      "11.154855\n",
      "10.134609\n",
      "9.423046\n",
      "10.452489\n",
      "10.160164\n",
      "9.6447935\n",
      "9.639264\n",
      "9.002354\n",
      "8.542022\n",
      "38.48\n",
      "29.481817\n",
      "23.546429\n",
      "11.758334\n",
      "11.904494\n",
      "14.158537\n",
      "14.814737\n",
      "15.271552\n",
      "19.396059\n",
      "16.37588\n",
      "14.390729\n",
      "13.753918\n",
      "13.920645\n",
      "15.1992655\n",
      "11.015943\n",
      "10.776169\n",
      "10.350695\n",
      "6.4496503\n",
      "7.539305\n",
      "6.834328\n",
      "6.9242163\n",
      "6.8598313\n",
      "6.284865\n",
      "6.73021\n",
      "6.8903484\n",
      "8.445841\n",
      "6.9932203\n",
      "7.420109\n",
      "6.907493\n",
      "19.8\n",
      "18.988888\n",
      "13.706349\n",
      "16.677965\n",
      "18.45\n",
      "13.235577\n",
      "10.400001\n",
      "9.083333\n",
      "12.873171\n",
      "13.1796875\n",
      "6.382946\n",
      "13.45\n",
      "11.34882\n",
      "7.11\n",
      "9.910256\n",
      "11.220492\n",
      "13.558696\n",
      "6.243098\n",
      "11.884746\n",
      "12.565875\n",
      "13.554754\n",
      "13.367004\n",
      "11.170646\n",
      "9.049943\n",
      "10.288918\n",
      "10.43302\n",
      "11.810068\n",
      "11.503139\n",
      "10.656291\n",
      "5.4477673\n",
      "5.3938117\n",
      "nan\n",
      "14.551786\n",
      "23.75\n",
      "22.390818\n",
      "21.572222\n",
      "20.889473\n",
      "9.676471\n",
      "30.87875\n",
      "24.760416\n",
      "24.08125\n",
      "23.774847\n",
      "23.04246\n",
      "24.192432\n",
      "23.572681\n",
      "24.189266\n",
      "23.765865\n",
      "17.51576\n",
      "15.891605\n",
      "13.554711\n",
      "12.194017\n",
      "13.551511\n",
      "12.186219\n",
      "11.256637\n",
      "12.740233\n",
      "11.042881\n",
      "13.08961\n",
      "10.607107\n",
      "10.42651\n",
      "10.324506\n",
      "18.75\n",
      "28.288502\n",
      "22.490564\n",
      "26.546667\n",
      "23.455027\n",
      "25.727272\n",
      "21.587755\n",
      "25.295181\n",
      "25.417284\n",
      "25.553846\n",
      "34.298412\n",
      "47.941666\n",
      "46.0275\n",
      "41.87\n",
      "49.83678\n",
      "29.485508\n",
      "62.092045\n",
      "53.37381\n",
      "51.95385\n",
      "22.227272\n",
      "45.61667\n",
      "35.108574\n",
      "42.783333\n",
      "19.812346\n",
      "14.482796\n",
      "10.247916\n",
      "9.260417\n",
      "9.957437\n",
      "7.3756166\n",
      "7.59623\n",
      "8.849771\n",
      "12.529461\n",
      "9.691667\n",
      "17.134928\n",
      "41.41407\n",
      "10.454103\n",
      "8.07654\n",
      "7.4160643\n",
      "nan\n",
      "nan\n"
     ]
    },
    {
     "data": {
      "text/plain": "<Figure size 640x480 with 1 Axes>",
      "image/png": "[encoded data removed]"
     },
     "metadata": {},
     "output_type": "display_data"
    }
   ],
   "source": [
    "for entry in range(len(test2)):\n",
    "    state_name = test2.index[entry][0]\n",
    "    year = test2.index[entry][1]\n",
    "    plt.plot(year, test2['so2'][entry], label=state_name)\n",
    "    print(test2['so2'][entry])\n",
    "\n",
    "# plt.xlabel('Year')\n",
    "# plt.ylabel('so2')\n",
    "# plt.title('Pollution Progress by State')\n",
    "# plt.legend()\n",
    "# plt.show()"
   ],
   "metadata": {
    "collapsed": false,
    "ExecuteTime": {
     "end_time": "2023-07-16T22:51:55.692390800Z",
     "start_time": "2023-07-16T22:51:55.170490100Z"
    }
   }
  },
  {
   "cell_type": "code",
   "execution_count": 142,
   "outputs": [
    {
     "data": {
      "text/plain": "<Axes: xlabel='state,date'>"
     },
     "execution_count": 142,
     "metadata": {},
     "output_type": "execute_result"
    },
    {
     "data": {
      "text/plain": "<Figure size 640x480 with 1 Axes>",
      "image/png": "[encoded data removed]"
     },
     "metadata": {},
     "output_type": "display_data"
    }
   ],
   "source": [
    "test.plot.bar()"
   ],
   "metadata": {
    "collapsed": false,
    "ExecuteTime": {
     "end_time": "2023-07-16T22:25:25.924132300Z",
     "start_time": "2023-07-16T22:25:25.688588800Z"
    }
   }
  },
  {
   "cell_type": "code",
   "execution_count": 151,
   "outputs": [
    {
     "data": {
      "text/plain": "                           state  date        so2        no2        rspm\n0                 Andhra Pradesh  1990   8.868966  15.296552         NaN\n1                 Andhra Pradesh  1991  10.811111  18.827778         NaN\n2                 Andhra Pradesh  1992  19.976471  36.252941         NaN\n3                 Andhra Pradesh  1993   8.544445  15.961110         NaN\n4                 Andhra Pradesh  1994  10.760318  18.273016         NaN\n..                           ...   ...        ...        ...         ...\n662                  West Bengal  2013  10.454103  63.811207  157.493271\n663                  West Bengal  2014   8.076540  57.616055  115.317360\n664                  West Bengal  2015   7.416064  45.948193  106.211136\n665  andaman-and-nicobar-islands    NA        NaN        NaN         NaN\n666                        state  date        NaN        NaN         NaN\n\n[667 rows x 5 columns]",
      "text/html": "<div>\n<style scoped>\n    .dataframe tbody tr th:only-of-type {\n        vertical-align: middle;\n    }\n\n    .dataframe tbody tr th {\n        vertical-align: top;\n    }\n\n    .dataframe thead th {\n        text-align: right;\n    }\n</style>\n<table border=\"1\" class=\"dataframe\">\n  <thead>\n    <tr style=\"text-align: right;\">\n      <th></th>\n      <th>state</th>\n      <th>date</th>\n      <th>so2</th>\n      <th>no2</th>\n      <th>rspm</th>\n    </tr>\n  </thead>\n  <tbody>\n    <tr>\n      <th>0</th>\n      <td>Andhra Pradesh</td>\n      <td>1990</td>\n      <td>8.868966</td>\n      <td>15.296552</td>\n      <td>NaN</td>\n    </tr>\n    <tr>\n      <th>1</th>\n      <td>Andhra Pradesh</td>\n      <td>1991</td>\n      <td>10.811111</td>\n      <td>18.827778</td>\n      <td>NaN</td>\n    </tr>\n    <tr>\n      <th>2</th>\n      <td>Andhra Pradesh</td>\n      <td>1992</td>\n      <td>19.976471</td>\n      <td>36.252941</td>\n      <td>NaN</td>\n    </tr>\n    <tr>\n      <th>3</th>\n      <td>Andhra Pradesh</td>\n      <td>1993</td>\n      <td>8.544445</td>\n      <td>15.961110</td>\n      <td>NaN</td>\n    </tr>\n    <tr>\n      <th>4</th>\n      <td>Andhra Pradesh</td>\n      <td>1994</td>\n      <td>10.760318</td>\n      <td>18.273016</td>\n      <td>NaN</td>\n    </tr>\n    <tr>\n      <th>...</th>\n      <td>...</td>\n      <td>...</td>\n      <td>...</td>\n      <td>...</td>\n      <td>...</td>\n    </tr>\n    <tr>\n      <th>662</th>\n      <td>West Bengal</td>\n      <td>2013</td>\n      <td>10.454103</td>\n      <td>63.811207</td>\n      <td>157.493271</td>\n    </tr>\n    <tr>\n      <th>663</th>\n      <td>West Bengal</td>\n      <td>2014</td>\n      <td>8.076540</td>\n      <td>57.616055</td>\n      <td>115.317360</td>\n    </tr>\n    <tr>\n      <th>664</th>\n      <td>West Bengal</td>\n      <td>2015</td>\n      <td>7.416064</td>\n      <td>45.948193</td>\n      <td>106.211136</td>\n    </tr>\n    <tr>\n      <th>665</th>\n      <td>andaman-and-nicobar-islands</td>\n      <td>NA</td>\n      <td>NaN</td>\n      <td>NaN</td>\n      <td>NaN</td>\n    </tr>\n    <tr>\n      <th>666</th>\n      <td>state</td>\n      <td>date</td>\n      <td>NaN</td>\n      <td>NaN</td>\n      <td>NaN</td>\n    </tr>\n  </tbody>\n</table>\n<p>667 rows × 5 columns</p>\n</div>"
     },
     "execution_count": 151,
     "metadata": {},
     "output_type": "execute_result"
    }
   ],
   "source": [
    "test2.reset_index()"
   ],
   "metadata": {
    "collapsed": false,
    "ExecuteTime": {
     "end_time": "2023-07-16T22:35:21.970074600Z",
     "start_time": "2023-07-16T22:35:21.952852Z"
    }
   }
  },
  {
   "cell_type": "code",
   "execution_count": 206,
   "outputs": [],
   "source": [
    "max_pm2_5 = pollutiondatadf_filtered_years['pm2_5'].idxmax()"
   ],
   "metadata": {
    "collapsed": false,
    "ExecuteTime": {
     "end_time": "2023-07-16T23:10:20.478580100Z",
     "start_time": "2023-07-16T23:10:20.454777100Z"
    }
   }
  },
  {
   "cell_type": "code",
   "execution_count": 214,
   "outputs": [
    {
     "name": "stdout",
     "output_type": "stream",
     "text": [
      "284610    2014\n",
      "Name: date, dtype: object\n"
     ]
    }
   ],
   "source": [
    "df2=pollutiondatadf_filtered_years.query('pm2_5 == pm2_5.max()')\n",
    "print(df2.date)"
   ],
   "metadata": {
    "collapsed": false,
    "ExecuteTime": {
     "end_time": "2023-07-16T23:12:24.644302300Z",
     "start_time": "2023-07-16T23:12:24.622296500Z"
    }
   }
  },
  {
   "cell_type": "code",
   "execution_count": 215,
   "outputs": [],
   "source": [
    "def get_max_pm2_5(dataframe):\n",
    "    return dataframe.query('pm2_5 == pm2_5.max()')\n",
    "\n",
    "df2 = get_max_pm2_5(pollutiondatadf_filtered_years)"
   ],
   "metadata": {
    "collapsed": false,
    "ExecuteTime": {
     "end_time": "2023-07-16T23:14:01.788160800Z",
     "start_time": "2023-07-16T23:14:01.766483300Z"
    }
   }
  },
  {
   "cell_type": "code",
   "execution_count": 217,
   "outputs": [
    {
     "name": "stdout",
     "output_type": "stream",
     "text": [
      "284610    Bhubaneswar\n",
      "Name: location, dtype: object\n"
     ]
    }
   ],
   "source": [
    "print(df2.location)"
   ],
   "metadata": {
    "collapsed": false,
    "ExecuteTime": {
     "end_time": "2023-07-16T23:15:59.574697700Z",
     "start_time": "2023-07-16T23:15:59.558642400Z"
    }
   }
  },
  {
   "cell_type": "code",
   "execution_count": 257,
   "outputs": [
    {
     "name": "stdout",
     "output_type": "stream",
     "text": [
      "['date', 'location']\n"
     ]
    },
    {
     "name": "stderr",
     "output_type": "stream",
     "text": [
      "C:\\Users\\steez\\AppData\\Local\\Temp\\ipykernel_24368\\3214096347.py:21: FutureWarning: Indexing with multiple keys (implicitly converted to a tuple of keys) will be deprecated, use a list instead.\n",
      "  full_data_frame = full_data_frame.groupby(shortened_groups)[\"so2\", \"no2\", \"rspm\", 'spm', 'pm2_5'].aggregate('mean')\n"
     ]
    }
   ],
   "source": [
    "def get_pollution_by_city_and_year(the_dataframe, searched_state = '', searched_city = '', searched_year = '', short=False):\n",
    "\n",
    "        full_data_frame = the_dataframe\n",
    "        searched_year = str(searched_year)\n",
    "        shortened_groups = ['date']\n",
    "\n",
    "        if searched_state != '':\n",
    "                full_data_frame = full_data_frame[full_data_frame.state == searched_state]\n",
    "                shortened_groups.append(\"state\")\n",
    "\n",
    "        if searched_city != '':\n",
    "                full_data_frame = full_data_frame[full_data_frame.location == searched_city]\n",
    "                shortened_groups.append(\"location\")\n",
    "\n",
    "\n",
    "        if searched_year != '':\n",
    "                full_data_frame = full_data_frame[full_data_frame.date == searched_year]\n",
    "\n",
    "\n",
    "        if short:\n",
    "                full_data_frame = full_data_frame.groupby(shortened_groups)[\"so2\", \"no2\", \"rspm\", 'spm', 'pm2_5'].aggregate('mean')\n",
    "\n",
    "        print(shortened_groups)\n",
    "        return full_data_frame\n",
    "\n",
    "city_test = get_pollution_by_city_and_year(pollutiondatadf_filtered_years, searched_city='Delhi', short=True)\n"
   ],
   "metadata": {
    "collapsed": false,
    "ExecuteTime": {
     "end_time": "2023-07-16T23:41:42.991349200Z",
     "start_time": "2023-07-16T23:41:42.952099400Z"
    }
   }
  },
  {
   "cell_type": "code",
   "execution_count": 252,
   "outputs": [
    {
     "data": {
      "text/plain": "<Axes: xlabel='date'>"
     },
     "execution_count": 252,
     "metadata": {},
     "output_type": "execute_result"
    },
    {
     "data": {
      "text/plain": "<Figure size 640x480 with 1 Axes>",
      "image/png": "[encoded data removed]"
     },
     "metadata": {},
     "output_type": "display_data"
    }
   ],
   "source": [
    "city_test.plot.line()"
   ],
   "metadata": {
    "collapsed": false,
    "ExecuteTime": {
     "end_time": "2023-07-16T23:41:06.567459Z",
     "start_time": "2023-07-16T23:41:06.452489300Z"
    }
   }
  },
  {
   "cell_type": "code",
   "execution_count": 258,
   "outputs": [
    {
     "name": "stdout",
     "output_type": "stream",
     "text": [
      "                     so2        no2        rspm         spm      pm2_5\n",
      "date location                                                         \n",
      "1987 Delhi     15.991303  18.700001         NaN  548.875000        NaN\n",
      "1988 Delhi     11.990909  21.600000         NaN  277.666656        NaN\n",
      "1990 Delhi     15.083673  28.020409         NaN  368.132660        NaN\n",
      "1991 Delhi     19.723810  33.396191         NaN  391.432678        NaN\n",
      "1992 Delhi     20.527779  31.544445         NaN  406.962250        NaN\n",
      "1993 Delhi     18.672632  32.177895         NaN         NaN        NaN\n",
      "1994 Delhi     24.860001  41.223530         NaN  435.776459        NaN\n",
      "1995 Delhi     23.117592  47.000000         NaN  406.557678        NaN\n",
      "1996 Delhi     17.757692  40.026920         NaN  397.676178        NaN\n",
      "1997 Delhi     16.437037  34.016666         NaN  343.527771        NaN\n",
      "1998 Delhi     15.628572  33.741905         NaN  378.161896        NaN\n",
      "1999 Delhi     17.334259  35.783333         NaN  363.555542        NaN\n",
      "2000 Delhi     15.089814  39.937962         NaN  375.799988        NaN\n",
      "2001 Delhi     12.912122  39.014141         NaN  363.876282        NaN\n",
      "2002 Delhi     10.950000  36.976086         NaN  338.860229        NaN\n",
      "2003 Delhi      9.939169  42.354073  130.912506  373.006104        NaN\n",
      "2004 Delhi           NaN        NaN  135.199432  340.091370        NaN\n",
      "2005 Delhi      9.254006  49.028004  139.098404  356.721588        NaN\n",
      "2006 Delhi      9.548440  46.429012  163.269150  417.526123        NaN\n",
      "2007 Delhi      6.324871  48.816441  175.822647  388.920685        NaN\n",
      "2008 Delhi      7.091783  58.361538  218.017548  437.912598        NaN\n",
      "2009 Delhi      6.486855  50.074066  251.413589  487.475647        NaN\n",
      "2011 Delhi      5.325137  58.491802  222.205521         NaN        NaN\n",
      "2012 Delhi      7.444445  81.684029  236.798615         NaN        NaN\n",
      "2013 Delhi      4.487085  89.734314  228.210327         NaN        NaN\n",
      "2014 Delhi      5.137174  63.492455  217.113129         NaN        NaN\n",
      "2015 Delhi      5.638851  67.356560  218.834930         NaN  95.113205\n"
     ]
    }
   ],
   "source": [
    "print(city_test)"
   ],
   "metadata": {
    "collapsed": false,
    "ExecuteTime": {
     "end_time": "2023-07-16T23:41:45.975018500Z",
     "start_time": "2023-07-16T23:41:45.960315500Z"
    }
   }
  },
  {
   "cell_type": "code",
   "execution_count": 288,
   "outputs": [],
   "source": [
    "all_population_data_new = all_population_data.toPandas()"
   ],
   "metadata": {
    "collapsed": false,
    "ExecuteTime": {
     "end_time": "2023-07-16T23:59:34.577828300Z",
     "start_time": "2023-07-16T23:59:34.393234300Z"
    }
   }
  },
  {
   "cell_type": "code",
   "execution_count": 291,
   "outputs": [
    {
     "name": "stdout",
     "output_type": "stream",
     "text": [
      "DataFrame[city: string, year: int, total_households: int, total_population: int, total_male_population: int, total_female_population: int]\n"
     ]
    }
   ],
   "source": [
    "print(all_population_data)"
   ],
   "metadata": {
    "collapsed": false,
    "ExecuteTime": {
     "end_time": "2023-07-17T00:00:00.471307200Z",
     "start_time": "2023-07-17T00:00:00.442225700Z"
    }
   }
  },
  {
   "cell_type": "markdown",
   "source": [],
   "metadata": {
    "collapsed": false
   }
  },
  {
   "cell_type": "code",
   "execution_count": 289,
   "outputs": [],
   "source": [
    "hyderabad_pop = all_population_data_new.loc[all_population_data_new['city'] == 'Hyderabad']"
   ],
   "metadata": {
    "collapsed": false,
    "ExecuteTime": {
     "end_time": "2023-07-16T23:59:41.413243100Z",
     "start_time": "2023-07-16T23:59:41.398829800Z"
    }
   }
  },
  {
   "cell_type": "code",
   "execution_count": 290,
   "outputs": [
    {
     "name": "stdout",
     "output_type": "stream",
     "text": [
      "            city    year  total_households  total_population  \\\n",
      "450    Hyderabad  2001.0          695906.0         3829753.0   \n",
      "1694   Hyderabad  2002.0          695906.0         3829753.0   \n",
      "1695   Hyderabad  2002.0               0.0               0.0   \n",
      "3282   Hyderabad  2003.0          695906.0         3829753.0   \n",
      "3283   Hyderabad  2003.0               0.0               0.0   \n",
      "4870   Hyderabad  2004.0          695906.0         3829753.0   \n",
      "4871   Hyderabad  2004.0               0.0               0.0   \n",
      "6426   Hyderabad  2005.0          695906.0         3829753.0   \n",
      "6427   Hyderabad  2005.0               0.0               0.0   \n",
      "7902   Hyderabad  2006.0          695906.0         3829753.0   \n",
      "7903   Hyderabad  2006.0               0.0               0.0   \n",
      "9378   Hyderabad  2007.0          695906.0         3829753.0   \n",
      "9379   Hyderabad  2007.0               0.0               0.0   \n",
      "10854  Hyderabad  2008.0          695906.0         3829753.0   \n",
      "10855  Hyderabad  2008.0               0.0               0.0   \n",
      "12330  Hyderabad  2009.0          695906.0         3829753.0   \n",
      "12331  Hyderabad  2009.0               0.0               0.0   \n",
      "13806  Hyderabad  2010.0          695906.0         3829753.0   \n",
      "13807  Hyderabad  2010.0               0.0               0.0   \n",
      "14866  Hyderabad  2011.0          849051.0         3943323.0   \n",
      "16022  Hyderabad  2012.0          849051.0         3943323.0   \n",
      "16023  Hyderabad  2012.0               0.0               0.0   \n",
      "17481  Hyderabad  2013.0          849051.0         3943323.0   \n",
      "17482  Hyderabad  2013.0               0.0               0.0   \n",
      "19068  Hyderabad  2014.0          849051.0         3943323.0   \n",
      "19069  Hyderabad  2014.0               0.0               0.0   \n",
      "20687  Hyderabad  2015.0          849051.0         3943323.0   \n",
      "20688  Hyderabad  2015.0               0.0               0.0   \n",
      "22146  Hyderabad  2016.0          849051.0         3943323.0   \n",
      "22147  Hyderabad  2016.0               0.0               0.0   \n",
      "23669  Hyderabad  2017.0          849051.0         3943323.0   \n",
      "23670  Hyderabad  2017.0               0.0               0.0   \n",
      "\n",
      "       total_male_population  total_female_population  \n",
      "450                1981173.0                1848580.0  \n",
      "1694               1981173.0                1848580.0  \n",
      "1695                     0.0                      0.0  \n",
      "3282               1981173.0                1848580.0  \n",
      "3283                     0.0                      0.0  \n",
      "4870               1981173.0                1848580.0  \n",
      "4871                     0.0                      0.0  \n",
      "6426               1981173.0                1848580.0  \n",
      "6427                     0.0                      0.0  \n",
      "7902               1981173.0                1848580.0  \n",
      "7903                     0.0                      0.0  \n",
      "9378               1981173.0                1848580.0  \n",
      "9379                     0.0                      0.0  \n",
      "10854              1981173.0                1848580.0  \n",
      "10855                    0.0                      0.0  \n",
      "12330              1981173.0                1848580.0  \n",
      "12331                    0.0                      0.0  \n",
      "13806              1981173.0                1848580.0  \n",
      "13807                    0.0                      0.0  \n",
      "14866              2018575.0                1924748.0  \n",
      "16022              2018575.0                1924748.0  \n",
      "16023                    0.0                      0.0  \n",
      "17481              2018575.0                1924748.0  \n",
      "17482                    0.0                      0.0  \n",
      "19068              2018575.0                1924748.0  \n",
      "19069                    0.0                      0.0  \n",
      "20687              2018575.0                1924748.0  \n",
      "20688                    0.0                      0.0  \n",
      "22146              2018575.0                1924748.0  \n",
      "22147                    0.0                      0.0  \n",
      "23669              2018575.0                1924748.0  \n",
      "23670                    0.0                      0.0  \n"
     ]
    }
   ],
   "source": [
    "print(hyderabad_pop)"
   ],
   "metadata": {
    "collapsed": false,
    "ExecuteTime": {
     "end_time": "2023-07-16T23:59:43.060521100Z",
     "start_time": "2023-07-16T23:59:43.038842100Z"
    }
   }
  },
  {
   "cell_type": "code",
   "execution_count": 281,
   "outputs": [
    {
     "data": {
      "text/plain": "        total_population\nyear                    \n2001.0         3829753.0\n2002.0         3829753.0\n2003.0         3829753.0\n2004.0         3829753.0\n2005.0         3829753.0\n2006.0         3829753.0\n2007.0         3829753.0\n2008.0         3829753.0\n2009.0         3829753.0\n2010.0         3829753.0\n2011.0         3943323.0\n2012.0         3943323.0\n2013.0         3943323.0\n2014.0         3943323.0\n2015.0         3943323.0\n2016.0         3943323.0\n2017.0         3943323.0",
      "text/html": "<div>\n<style scoped>\n    .dataframe tbody tr th:only-of-type {\n        vertical-align: middle;\n    }\n\n    .dataframe tbody tr th {\n        vertical-align: top;\n    }\n\n    .dataframe thead th {\n        text-align: right;\n    }\n</style>\n<table border=\"1\" class=\"dataframe\">\n  <thead>\n    <tr style=\"text-align: right;\">\n      <th></th>\n      <th>total_population</th>\n    </tr>\n    <tr>\n      <th>year</th>\n      <th></th>\n    </tr>\n  </thead>\n  <tbody>\n    <tr>\n      <th>2001.0</th>\n      <td>3829753.0</td>\n    </tr>\n    <tr>\n      <th>2002.0</th>\n      <td>3829753.0</td>\n    </tr>\n    <tr>\n      <th>2003.0</th>\n      <td>3829753.0</td>\n    </tr>\n    <tr>\n      <th>2004.0</th>\n      <td>3829753.0</td>\n    </tr>\n    <tr>\n      <th>2005.0</th>\n      <td>3829753.0</td>\n    </tr>\n    <tr>\n      <th>2006.0</th>\n      <td>3829753.0</td>\n    </tr>\n    <tr>\n      <th>2007.0</th>\n      <td>3829753.0</td>\n    </tr>\n    <tr>\n      <th>2008.0</th>\n      <td>3829753.0</td>\n    </tr>\n    <tr>\n      <th>2009.0</th>\n      <td>3829753.0</td>\n    </tr>\n    <tr>\n      <th>2010.0</th>\n      <td>3829753.0</td>\n    </tr>\n    <tr>\n      <th>2011.0</th>\n      <td>3943323.0</td>\n    </tr>\n    <tr>\n      <th>2012.0</th>\n      <td>3943323.0</td>\n    </tr>\n    <tr>\n      <th>2013.0</th>\n      <td>3943323.0</td>\n    </tr>\n    <tr>\n      <th>2014.0</th>\n      <td>3943323.0</td>\n    </tr>\n    <tr>\n      <th>2015.0</th>\n      <td>3943323.0</td>\n    </tr>\n    <tr>\n      <th>2016.0</th>\n      <td>3943323.0</td>\n    </tr>\n    <tr>\n      <th>2017.0</th>\n      <td>3943323.0</td>\n    </tr>\n  </tbody>\n</table>\n</div>"
     },
     "execution_count": 281,
     "metadata": {},
     "output_type": "execute_result"
    }
   ],
   "source": [
    "agg_functions = {'total_population': 'first'}\n",
    "\n",
    "hyderabad_pop.groupby(['year']).aggregate(agg_functions)"
   ],
   "metadata": {
    "collapsed": false,
    "ExecuteTime": {
     "end_time": "2023-07-16T23:57:30.057633200Z",
     "start_time": "2023-07-16T23:57:30.044045200Z"
    }
   }
  }
 ],
 "metadata": {
  "kernelspec": {
   "display_name": "Python 3",
   "language": "python",
   "name": "python3"
  },
  "language_info": {
   "codemirror_mode": {
    "name": "ipython",
    "version": 2
   },
   "file_extension": ".py",
   "mimetype": "text/x-python",
   "name": "python",
   "nbconvert_exporter": "python",
   "pygments_lexer": "ipython2",
   "version": "2.7.6"
  }
 },
 "nbformat": 4,
 "nbformat_minor": 0
}
