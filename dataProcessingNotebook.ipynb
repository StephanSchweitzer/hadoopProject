{
 "cells": [
  {
   "cell_type": "code",
   "execution_count": 1,
   "metadata": {
    "collapsed": true,
    "ExecuteTime": {
     "end_time": "2023-07-16T00:01:19.552204800Z",
     "start_time": "2023-07-16T00:01:11.972349100Z"
    }
   },
   "outputs": [
    {
     "name": "stdout",
     "output_type": "stream",
     "text": [
      "+---------+\n",
      "|namespace|\n",
      "+---------+\n",
      "|  default|\n",
      "+---------+\n",
      "\n"
     ]
    }
   ],
   "source": [
    "import pyspark\n",
    "from pyspark.sql import SparkSession\n",
    "from pyspark.sql.types import StructType\n",
    "import csvStructures as csvStruc\n",
    "import matplotlib\n",
    "import matplotlib.pyplot as plt\n",
    "import sillyFunctions as ezFunc\n",
    "\n",
    "electiondata = csvStruc.spark.read.csv(\n",
    "        \"hdfs://localhost:9000/user/steez/indianElections/Loksabha_1962-2019.csv\",\n",
    "        schema=csvStruc.electionsSchema)"
   ]
  },
  {
   "cell_type": "code",
   "execution_count": 2,
   "outputs": [
    {
     "name": "stdout",
     "output_type": "stream",
     "text": [
      "root\n",
      " |-- city: string (nullable = true)\n",
      " |-- no: integer (nullable = true)\n",
      " |-- type: string (nullable = true)\n",
      " |-- state: string (nullable = true)\n",
      " |-- candidate: string (nullable = true)\n",
      " |-- party: string (nullable = true)\n",
      " |-- electors: string (nullable = true)\n",
      " |-- votes: string (nullable = true)\n",
      " |-- turnout: string (nullable = true)\n",
      " |-- margin: string (nullable = true)\n",
      " |-- margin%: string (nullable = true)\n",
      " |-- year: integer (nullable = true)\n",
      "\n"
     ]
    }
   ],
   "source": [
    "electiondata.printSchema()"
   ],
   "metadata": {
    "collapsed": false,
    "ExecuteTime": {
     "end_time": "2023-07-16T00:01:19.567214400Z",
     "start_time": "2023-07-16T00:01:19.554459800Z"
    }
   }
  },
  {
   "cell_type": "code",
   "execution_count": 3,
   "outputs": [],
   "source": [
    "pollutiondata = csvStruc.spark.read.csv(\n",
    "        \"hdfs://localhost:9000/user/steez/pollution/data.csv\",\n",
    "        schema=csvStruc.pollutionSchema)"
   ],
   "metadata": {
    "collapsed": false,
    "ExecuteTime": {
     "end_time": "2023-07-16T00:01:19.626150100Z",
     "start_time": "2023-07-16T00:01:19.567214400Z"
    }
   }
  },
  {
   "cell_type": "code",
   "execution_count": 4,
   "outputs": [
    {
     "name": "stdout",
     "output_type": "stream",
     "text": [
      "+--------+------------------+--------------+---------+------+--------------------+----+----+----+----+---------------------------+-----+----------+\n",
      "|stn_code|     sampling_date|         state| location|agency|                type| so2| no2|rspm| spm|location_monitoring_station|pm2_5|      date|\n",
      "+--------+------------------+--------------+---------+------+--------------------+----+----+----+----+---------------------------+-----+----------+\n",
      "|stn_code|     sampling_date|         state| location|agency|                type|null|null|null|null|       location_monitori...| null|      date|\n",
      "|     150|February - M021990|Andhra Pradesh|Hyderabad|    NA|Residential, Rura...| 4.8|17.4|null|null|                         NA| null|1990-02-01|\n",
      "|     151|February - M021990|Andhra Pradesh|Hyderabad|    NA|     Industrial Area| 3.1| 7.0|null|null|                         NA| null|1990-02-01|\n",
      "|     152|February - M021990|Andhra Pradesh|Hyderabad|    NA|Residential, Rura...| 6.2|28.5|null|null|                         NA| null|1990-02-01|\n",
      "|     150|   March - M031990|Andhra Pradesh|Hyderabad|    NA|Residential, Rura...| 6.3|14.7|null|null|                         NA| null|1990-03-01|\n",
      "+--------+------------------+--------------+---------+------+--------------------+----+----+----+----+---------------------------+-----+----------+\n",
      "only showing top 5 rows\n",
      "\n"
     ]
    }
   ],
   "source": [
    "pollutiondata.show(5)"
   ],
   "metadata": {
    "collapsed": false,
    "ExecuteTime": {
     "end_time": "2023-07-16T00:01:20.569023Z",
     "start_time": "2023-07-16T00:01:19.593134100Z"
    }
   }
  },
  {
   "cell_type": "code",
   "execution_count": 5,
   "outputs": [],
   "source": [
    "economic_info_data = csvStruc.spark.read.csv(\n",
    "        \"hdfs://localhost:9000/user/steez/socioEconomicData/india.csv\",\n",
    "        schema=csvStruc.economicInfoSchema)"
   ],
   "metadata": {
    "collapsed": false,
    "ExecuteTime": {
     "end_time": "2023-07-16T00:01:20.635209500Z",
     "start_time": "2023-07-16T00:01:20.570023200Z"
    }
   }
  },
  {
   "cell_type": "code",
   "execution_count": 6,
   "outputs": [
    {
     "name": "stdout",
     "output_type": "stream",
     "text": [
      "+--------------------+----+----+----+-----+-----+-----+-----+-----+-----+-----+-----+-----+-----+-----+-----+-----+-----+-----+-----+-----+-----+-----+-----+-----+-----+------+------+------+------+------+------+------+------+-----------------+\n",
      "|               state|1990|1991|1992| 1993| 1994| 1995| 1996| 1997| 1998| 1999| 2000| 2001| 2002| 2003| 2004| 2005| 2006| 2007| 2008| 2009| 2010| 2011| 2012| 2013| 2014|  2015|  2016|  2017|  2018|  2019|  2020|  2021|  2022|         category|\n",
      "+--------------------+----+----+----+-----+-----+-----+-----+-----+-----+-----+-----+-----+-----+-----+-----+-----+-----+-----+-----+-----+-----+-----+-----+-----+-----+------+------+------+------+------+------+------+------+-----------------+\n",
      "|               state|1990|1991|1992| 1993| 1994| 1995| 1996| 1997| 1998| 1999| 2000| 2001| 2002| 2003| 2004| 2005| 2006| 2007| 2008| 2009| 2010| 2011| 2012| 2013| 2014|  2015|  2016|  2017|  2018|  2019|  2020|  2021|  2022|         CATEGORY|\n",
      "|Andaman & Nicobar...|2580|2302|2884|15192|16191|15354|15896|16350|14502|15293|24005|23658|23869|25487|27229|40921|41645|47522|50629|56304|61411|64712|89100|92644|98735|106711|114660|129532|145562|154233|161564|  null|  null|Per Capita Income|\n",
      "|      Andhra Pradesh|2060|2134|2039| 7416| 7711| 8071| 8514| 8191| 9144| 9445|15427|16574|17213|17340|18819|25959|27179|29797|33217|33733|35677|37708|69000|68865|72254| 79174| 88609| 94115|103177|108853|115344|114324|126587|Per Capita Income|\n",
      "|   Arunachal Pradesh|2709|3013|3015| 8733| 8342| 9352| 8590| 8634| 8712| 8890|13990|14726|16793|15832|17340|26721|26870|27675|30287|32028|33893|34548|73540|73960|79004| 91034| 88768| 91319| 94008| 99580|113110|108706|  null|Per Capita Income|\n",
      "|               Assam|1544|1575|1557| 5715| 5737| 5760| 5793| 5796| 5664| 5785|12282|12447|12529|13072|13675|16782|17050|17579|18089|18922|20406|21146|41142|41609|43002| 44809| 50642| 53575| 57835| 59943| 61519| 57227|  null|Per Capita Income|\n",
      "+--------------------+----+----+----+-----+-----+-----+-----+-----+-----+-----+-----+-----+-----+-----+-----+-----+-----+-----+-----+-----+-----+-----+-----+-----+-----+------+------+------+------+------+------+------+------+-----------------+\n",
      "only showing top 5 rows\n",
      "\n"
     ]
    }
   ],
   "source": [
    "economic_info_data.show(5)"
   ],
   "metadata": {
    "collapsed": false,
    "ExecuteTime": {
     "end_time": "2023-07-16T00:01:20.846294300Z",
     "start_time": "2023-07-16T00:01:20.600210300Z"
    }
   }
  },
  {
   "cell_type": "code",
   "execution_count": 7,
   "outputs": [],
   "source": [
    "population_data_2001 = csvStruc.spark.read.csv(\n",
    "        \"hdfs://localhost:9000/user/steez/populationCensusByYear/data_2001.csv\",\n",
    "        schema=csvStruc.populationSchema)"
   ],
   "metadata": {
    "collapsed": false,
    "ExecuteTime": {
     "end_time": "2023-07-16T00:01:20.900930100Z",
     "start_time": "2023-07-16T00:01:20.848301900Z"
    }
   }
  },
  {
   "cell_type": "code",
   "execution_count": 8,
   "outputs": [
    {
     "name": "stdout",
     "output_type": "stream",
     "text": [
      "+-------------+----+----------------+----------------+---------------------+-----------------------+\n",
      "|         city|year|total_households|total_population|total_male_population|total_female_population|\n",
      "+-------------+----+----------------+----------------+---------------------+-----------------------+\n",
      "|         NAME|null|            null|            null|                 null|                   null|\n",
      "|  WEST BENGAL|2001|        15872083|        80176197|             41465985|               38710212|\n",
      "|  UTTARANCHAL|2001|         1603242|         8489349|              4325924|                4163425|\n",
      "|UTTAR PRADESH|2001|        25757640|       166197921|             87565369|               78632552|\n",
      "|      TRIPURA|2001|          664334|         3199203|              1642225|                1556978|\n",
      "+-------------+----+----------------+----------------+---------------------+-----------------------+\n",
      "only showing top 5 rows\n",
      "\n"
     ]
    }
   ],
   "source": [
    "population_data_2001.show(5)"
   ],
   "metadata": {
    "collapsed": false,
    "ExecuteTime": {
     "end_time": "2023-07-16T00:01:20.993851600Z",
     "start_time": "2023-07-16T00:01:20.869931800Z"
    }
   }
  },
  {
   "cell_type": "markdown",
   "source": [],
   "metadata": {
    "collapsed": false
   }
  },
  {
   "cell_type": "code",
   "execution_count": 9,
   "outputs": [],
   "source": [
    "all_population_data = csvStruc.spark.read.csv(\n",
    "        \"hdfs://localhost:9000/user/steez/populationCensusByYear/all_years.csv\",\n",
    "        schema=csvStruc.populationSchema)"
   ],
   "metadata": {
    "collapsed": false,
    "ExecuteTime": {
     "end_time": "2023-07-16T00:01:21.012712300Z",
     "start_time": "2023-07-16T00:01:20.994388200Z"
    }
   }
  },
  {
   "cell_type": "code",
   "execution_count": 10,
   "outputs": [
    {
     "name": "stdout",
     "output_type": "stream",
     "text": [
      "+-------------+----+----------------+----------------+---------------------+-----------------------+\n",
      "|         city|year|total_households|total_population|total_male_population|total_female_population|\n",
      "+-------------+----+----------------+----------------+---------------------+-----------------------+\n",
      "|         NAME|null|            null|            null|                 null|                   null|\n",
      "|  WEST BENGAL|2001|        15872083|        80176197|             41465985|               38710212|\n",
      "|  UTTARANCHAL|2001|         1603242|         8489349|              4325924|                4163425|\n",
      "|UTTAR PRADESH|2001|        25757640|       166197921|             87565369|               78632552|\n",
      "|      TRIPURA|2001|          664334|         3199203|              1642225|                1556978|\n",
      "+-------------+----+----------------+----------------+---------------------+-----------------------+\n",
      "only showing top 5 rows\n",
      "\n"
     ]
    }
   ],
   "source": [
    "all_population_data.show(5)"
   ],
   "metadata": {
    "collapsed": false,
    "ExecuteTime": {
     "end_time": "2023-07-16T00:01:21.092377200Z",
     "start_time": "2023-07-16T00:01:21.014713600Z"
    }
   }
  },
  {
   "cell_type": "code",
   "execution_count": 11,
   "outputs": [],
   "source": [
    "pollutiondatadf = pollutiondata.toPandas()"
   ],
   "metadata": {
    "collapsed": false,
    "ExecuteTime": {
     "end_time": "2023-07-16T00:01:26.947732700Z",
     "start_time": "2023-07-16T00:01:21.091366200Z"
    }
   }
  },
  {
   "cell_type": "code",
   "execution_count": 12,
   "outputs": [
    {
     "data": {
      "text/plain": "<Axes: >"
     },
     "execution_count": 12,
     "metadata": {},
     "output_type": "execute_result"
    },
    {
     "data": {
      "text/plain": "<Figure size 640x480 with 1 Axes>",
      "image/png": "[encoded data removed]"
     },
     "metadata": {},
     "output_type": "display_data"
    }
   ],
   "source": [
    "pollutiondatadf.plot()"
   ],
   "metadata": {
    "collapsed": false,
    "ExecuteTime": {
     "end_time": "2023-07-16T00:01:29.132112100Z",
     "start_time": "2023-07-16T00:01:26.948842900Z"
    }
   }
  },
  {
   "cell_type": "code",
   "execution_count": 13,
   "outputs": [],
   "source": [
    "test = ezFunc.extractint('bbbb33hh6h2h11')"
   ],
   "metadata": {
    "collapsed": false,
    "ExecuteTime": {
     "end_time": "2023-07-16T00:01:29.136413200Z",
     "start_time": "2023-07-16T00:01:29.133446600Z"
    }
   }
  },
  {
   "cell_type": "code",
   "execution_count": 14,
   "outputs": [
    {
     "name": "stdout",
     "output_type": "stream",
     "text": [
      "336211\n"
     ]
    }
   ],
   "source": [
    "print(test)"
   ],
   "metadata": {
    "collapsed": false,
    "ExecuteTime": {
     "end_time": "2023-07-16T00:01:29.150853500Z",
     "start_time": "2023-07-16T00:01:29.138413600Z"
    }
   }
  },
  {
   "cell_type": "code",
   "execution_count": 15,
   "outputs": [],
   "source": [
    "pollutiondatadf[\"sampling_date\"] = pollutiondatadf[\"sampling_date\"].apply(ezFunc.extractint)"
   ],
   "metadata": {
    "collapsed": false,
    "ExecuteTime": {
     "end_time": "2023-07-16T00:01:29.528644400Z",
     "start_time": "2023-07-16T00:01:29.150853500Z"
    }
   }
  },
  {
   "cell_type": "code",
   "execution_count": 16,
   "outputs": [],
   "source": [
    "pollutiondatadf[\"sampling_date\"] = pollutiondatadf[\"sampling_date\"].apply(ezFunc.givethegoodyear)"
   ],
   "metadata": {
    "collapsed": false,
    "ExecuteTime": {
     "end_time": "2023-07-16T00:01:29.682509800Z",
     "start_time": "2023-07-16T00:01:29.530066700Z"
    }
   }
  },
  {
   "cell_type": "code",
   "execution_count": 30,
   "outputs": [
    {
     "name": "stderr",
     "output_type": "stream",
     "text": [
      "C:\\Users\\steez\\AppData\\Local\\Temp\\ipykernel_32968\\1345836536.py:1: FutureWarning: Indexing with multiple keys (implicitly converted to a tuple of keys) will be deprecated, use a list instead.\n",
      "  grouped_by_year_state_type = pollutiondatadf.groupby([\"sampling_date\", \"state\"])[\"so2\", \"no2\", \"rspm\"].aggregate('mean')\n"
     ]
    }
   ],
   "source": [
    "grouped_by_year_state_type = pollutiondatadf.groupby([\"sampling_date\", \"state\"])[\"so2\", \"no2\", \"rspm\"].aggregate('mean')"
   ],
   "metadata": {
    "collapsed": false,
    "ExecuteTime": {
     "end_time": "2023-07-16T00:17:31.652135Z",
     "start_time": "2023-07-16T00:17:31.567106300Z"
    }
   }
  },
  {
   "cell_type": "code",
   "execution_count": 31,
   "outputs": [
    {
     "name": "stdout",
     "output_type": "stream",
     "text": [
      "                                   so2        no2  rspm\n",
      "sampling_date state                                    \n",
      "1987          Bihar          23.660000  29.463636   NaN\n",
      "              Delhi          15.991303  18.700001   NaN\n",
      "              Goa             4.318182   8.758823   NaN\n",
      "              Gujarat        18.204477  27.465672   NaN\n",
      "              Haryana        43.480000  18.577778   NaN\n",
      "...                                ...        ...   ...\n",
      "2088          Odisha               NaN        NaN   NaN\n",
      "              Puducherry     13.400000  13.200000   NaN\n",
      "              Punjab         17.400000  34.500000   NaN\n",
      "              Rajasthan      33.200001  55.000000   NaN\n",
      "              Uttar Pradesh  28.800001  23.900002   NaN\n",
      "\n",
      "[827 rows x 3 columns]\n"
     ]
    }
   ],
   "source": [
    "print(grouped_by_year_state_type)"
   ],
   "metadata": {
    "collapsed": false,
    "ExecuteTime": {
     "end_time": "2023-07-16T00:17:46.610467300Z",
     "start_time": "2023-07-16T00:17:46.588470Z"
    }
   }
  },
  {
   "cell_type": "code",
   "execution_count": 32,
   "outputs": [
    {
     "name": "stderr",
     "output_type": "stream",
     "text": [
      "C:\\Users\\steez\\AppData\\Local\\Temp\\ipykernel_32968\\1685270313.py:1: FutureWarning: Indexing with multiple keys (implicitly converted to a tuple of keys) will be deprecated, use a list instead.\n",
      "  grouped_by_yearonly = pollutiondatadf.groupby([\"date\", \"state\"])[\"so2\", \"no2\", \"rspm\"].aggregate('mean')\n"
     ]
    }
   ],
   "source": [
    "grouped_by_yearonly = pollutiondatadf.groupby([\"date\", \"state\"])[\"so2\", \"no2\", \"rspm\"].aggregate('mean')"
   ],
   "metadata": {
    "collapsed": false,
    "ExecuteTime": {
     "end_time": "2023-07-16T00:18:23.992787100Z",
     "start_time": "2023-07-16T00:18:23.851688700Z"
    }
   }
  },
  {
   "cell_type": "code",
   "execution_count": 33,
   "outputs": [
    {
     "name": "stdout",
     "output_type": "stream",
     "text": [
      "                                              so2        no2   rspm\n",
      "date       state                                                   \n",
      "1987-01-01 Gujarat                      19.699999  15.000000    NaN\n",
      "           Rajasthan                          NaN        NaN    NaN\n",
      "           Uttar Pradesh                16.100000        NaN    NaN\n",
      "           West Bengal                  65.150002  86.366669    NaN\n",
      "1987-01-02 Gujarat                      26.450001  45.400002    NaN\n",
      "...                                           ...        ...    ...\n",
      "NA         Maharashtra                  11.500000  33.000000   92.0\n",
      "           Odisha                        9.000000  14.000000  105.0\n",
      "           Tripura                            NaN        NaN    NaN\n",
      "           andaman-and-nicobar-islands        NaN        NaN    NaN\n",
      "date       state                              NaN        NaN    NaN\n",
      "\n",
      "[84415 rows x 3 columns]\n"
     ]
    }
   ],
   "source": [
    "print((grouped_by_yearonly))"
   ],
   "metadata": {
    "collapsed": false,
    "ExecuteTime": {
     "end_time": "2023-07-16T00:18:26.579416500Z",
     "start_time": "2023-07-16T00:18:26.567786100Z"
    }
   }
  },
  {
   "cell_type": "code",
   "execution_count": 27,
   "outputs": [],
   "source": [
    "base_group_by = pollutiondatadf.groupby([\"sampling_date\", \"state\"])"
   ],
   "metadata": {
    "collapsed": false,
    "ExecuteTime": {
     "end_time": "2023-07-16T00:15:30.169791300Z",
     "start_time": "2023-07-16T00:15:30.142510700Z"
    }
   }
  },
  {
   "cell_type": "code",
   "execution_count": 34,
   "outputs": [
    {
     "name": "stderr",
     "output_type": "stream",
     "text": [
      "C:\\Users\\steez\\AppData\\Local\\Temp\\ipykernel_32968\\591754673.py:1: FutureWarning: Indexing with multiple keys (implicitly converted to a tuple of keys) will be deprecated, use a list instead.\n",
      "  grouped_by_state = pollutiondatadf.groupby([\"state\"])[\"so2\", \"no2\", \"rspm\"].aggregate('mean')\n"
     ]
    }
   ],
   "source": [
    "grouped_by_state = pollutiondatadf.groupby([\"state\"])[\"so2\", \"no2\", \"rspm\"].aggregate('mean')"
   ],
   "metadata": {
    "collapsed": false,
    "ExecuteTime": {
     "end_time": "2023-07-16T00:27:45.292686Z",
     "start_time": "2023-07-16T00:27:45.227378700Z"
    }
   }
  },
  {
   "cell_type": "code",
   "execution_count": 37,
   "outputs": [
    {
     "name": "stdout",
     "output_type": "stream",
     "text": [
      "                                   so2        no2        rspm\n",
      "state                                                        \n",
      "Andhra Pradesh                7.284844  21.704451   78.182823\n",
      "Arunachal Pradesh             3.179105   5.469697   76.629211\n",
      "Assam                         6.723263  14.793691   93.724915\n",
      "Bihar                        19.381475  36.575523  123.705177\n",
      "Chandigarh                    2.676986  18.619404   96.587082\n",
      "Chhattisgarh                 12.846609  24.815960  126.472397\n",
      "Dadra & Nagar Haveli          8.939587  18.293959   76.536530\n",
      "Daman & Diu                   8.192958  16.168926   73.749428\n",
      "Delhi                         8.737273  53.489147  196.639771\n",
      "Goa                           6.827913  12.506337   61.212765\n",
      "Gujarat                      16.656343  24.065630   98.244507\n",
      "Haryana                      14.064957  23.428310  149.860535\n",
      "Himachal Pradesh              2.667013  13.658688   91.870201\n",
      "Jammu & Kashmir               7.180521  12.213181  117.449486\n",
      "Jharkhand                    23.485794  43.366341  168.517761\n",
      "Karnataka                    10.223099  22.702837   79.371803\n",
      "Kerala                        5.322350  14.421889   50.636066\n",
      "Lakshadweep                        NaN        NaN         NaN\n",
      "Madhya Pradesh               11.587410  18.639595  114.717972\n",
      "Maharashtra                  17.366863  32.115372  101.479607\n",
      "Manipur                       3.900000  20.173683   69.815788\n",
      "Meghalaya                     8.955908  10.659706   68.988441\n",
      "Mizoram                       2.085009   6.682171   42.716465\n",
      "Nagaland                      2.059736   8.947266   83.357025\n",
      "Odisha                        5.275874  16.899569   83.619827\n",
      "Puducherry                   11.970638  15.279496   43.418217\n",
      "Punjab                       10.628598  28.085846  173.493713\n",
      "Rajasthan                     7.665725  30.441008  142.016830\n",
      "Sikkim                       19.799999  26.799999   32.000000\n",
      "Tamil Nadu                   11.315134  21.601202   66.585632\n",
      "Telangana                     5.418609  23.864004   85.043007\n",
      "Tripura                            NaN        NaN         NaN\n",
      "Uttar Pradesh                12.528500  27.610096  176.952301\n",
      "Uttarakhand                  24.372957  26.938089  148.978912\n",
      "Uttaranchal                  24.697735  27.163019  121.694336\n",
      "West Bengal                  12.608765  59.075733  115.039902\n",
      "andaman-and-nicobar-islands        NaN        NaN         NaN\n",
      "state                              NaN        NaN         NaN\n"
     ]
    }
   ],
   "source": [
    "print(grouped_by_state)"
   ],
   "metadata": {
    "collapsed": false
   }
  },
  {
   "cell_type": "code",
   "execution_count": 40,
   "outputs": [
    {
     "data": {
      "text/plain": "<Axes: xlabel='state'>"
     },
     "execution_count": 40,
     "metadata": {},
     "output_type": "execute_result"
    },
    {
     "data": {
      "text/plain": "<Figure size 640x480 with 1 Axes>",
      "image/png": "[encoded data removed]"
     },
     "metadata": {},
     "output_type": "display_data"
    }
   ],
   "source": [
    "grouped_by_state.plot.bar()"
   ],
   "metadata": {
    "collapsed": false,
    "ExecuteTime": {
     "end_time": "2023-07-16T00:29:37.162947200Z",
     "start_time": "2023-07-16T00:29:36.726825Z"
    }
   }
  }
 ],
 "metadata": {
  "kernelspec": {
   "display_name": "Python 3",
   "language": "python",
   "name": "python3"
  },
  "language_info": {
   "codemirror_mode": {
    "name": "ipython",
    "version": 2
   },
   "file_extension": ".py",
   "mimetype": "text/x-python",
   "name": "python",
   "nbconvert_exporter": "python",
   "pygments_lexer": "ipython2",
   "version": "2.7.6"
  }
 },
 "nbformat": 4,
 "nbformat_minor": 0
}
